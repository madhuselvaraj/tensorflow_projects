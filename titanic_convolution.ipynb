{
  "nbformat": 4,
  "nbformat_minor": 0,
  "metadata": {
    "colab": {
      "name": "titanic_convolution",
      "version": "0.3.2",
      "provenance": [],
      "collapsed_sections": [],
      "include_colab_link": true
    },
    "kernelspec": {
      "name": "python3",
      "display_name": "Python 3"
    }
  },
  "cells": [
    {
      "cell_type": "markdown",
      "metadata": {
        "id": "view-in-github",
        "colab_type": "text"
      },
      "source": [
        "<a href=\"https://colab.research.google.com/github/madhuselvaraj/tensorflow_projects/blob/master/titanic_convolution.ipynb\" target=\"_parent\"><img src=\"https://colab.research.google.com/assets/colab-badge.svg\" alt=\"Open In Colab\"/></a>"
      ]
    },
    {
      "metadata": {
        "id": "FIGsqQn4WBV8",
        "colab_type": "text"
      },
      "cell_type": "markdown",
      "source": [
        "Here we are goinng to deal with a dataset of the people who travelled in  titanic and predict which people we likely to survive in it.\n",
        "\n",
        "import files."
      ]
    },
    {
      "metadata": {
        "id": "T7qihFgSWAY3",
        "colab_type": "code",
        "colab": {}
      },
      "cell_type": "code",
      "source": [
        "import tensorflow as tf\n",
        "import pandas as pd\n",
        "import matplotlib.pyplot as plt\n",
        "import io\n",
        "import numpy as np"
      ],
      "execution_count": 0,
      "outputs": []
    },
    {
      "metadata": {
        "id": "4lm6A6pDXvcf",
        "colab_type": "text"
      },
      "cell_type": "markdown",
      "source": [
        "upload training dataset file 'train.csv' in google colab from local "
      ]
    },
    {
      "metadata": {
        "id": "48qlp-y6WA7_",
        "colab_type": "code",
        "outputId": "437091be-ed1f-4544-99e2-76ac54539fc8",
        "colab": {
          "resources": {
            "http://localhost:8080/nbextensions/google.colab/files.js": {
              "data": "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",
              "ok": true,
              "headers": [
                [
                  "content-type",
                  "application/javascript"
                ]
              ],
              "status": 200,
              "status_text": ""
            }
          },
          "base_uri": "https://localhost:8080/",
          "height": 74
        }
      },
      "cell_type": "code",
      "source": [
        "from google.colab import files\n",
        "uploaded = files.upload()\n"
      ],
      "execution_count": 2,
      "outputs": [
        {
          "output_type": "display_data",
          "data": {
            "text/html": [
              "\n",
              "     <input type=\"file\" id=\"files-adc10661-0f6a-4ec8-b4c7-d91efd25ee05\" name=\"files[]\" multiple disabled />\n",
              "     <output id=\"result-adc10661-0f6a-4ec8-b4c7-d91efd25ee05\">\n",
              "      Upload widget is only available when the cell has been executed in the\n",
              "      current browser session. Please rerun this cell to enable.\n",
              "      </output>\n",
              "      <script src=\"/nbextensions/google.colab/files.js\"></script> "
            ],
            "text/plain": [
              "<IPython.core.display.HTML object>"
            ]
          },
          "metadata": {
            "tags": []
          }
        },
        {
          "output_type": "stream",
          "text": [
            "Saving train.csv to train (1).csv\n"
          ],
          "name": "stdout"
        }
      ]
    },
    {
      "metadata": {
        "id": "ZEXttIFYYJxn",
        "colab_type": "code",
        "colab": {}
      },
      "cell_type": "code",
      "source": [
        "train_df = pd.read_csv(io.BytesIO(uploaded['train.csv']))"
      ],
      "execution_count": 0,
      "outputs": []
    },
    {
      "metadata": {
        "id": "eV-V9UoKYM_-",
        "colab_type": "text"
      },
      "cell_type": "markdown",
      "source": [
        "upload test dataset file 'test.csv' in google colab from local"
      ]
    },
    {
      "metadata": {
        "id": "x7PHjGUXYQlh",
        "colab_type": "code",
        "outputId": "aed7e588-6f9e-4b66-92fa-fd9eb6cb7166",
        "colab": {
          "resources": {
            "http://localhost:8080/nbextensions/google.colab/files.js": {
              "data": "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",
              "ok": true,
              "headers": [
                [
                  "content-type",
                  "application/javascript"
                ]
              ],
              "status": 200,
              "status_text": ""
            }
          },
          "base_uri": "https://localhost:8080/",
          "height": 74
        }
      },
      "cell_type": "code",
      "source": [
        "from google.colab import files\n",
        "uploaded = files.upload()\n"
      ],
      "execution_count": 4,
      "outputs": [
        {
          "output_type": "display_data",
          "data": {
            "text/html": [
              "\n",
              "     <input type=\"file\" id=\"files-fd453b62-d1fb-42cf-b092-2792b3745d7e\" name=\"files[]\" multiple disabled />\n",
              "     <output id=\"result-fd453b62-d1fb-42cf-b092-2792b3745d7e\">\n",
              "      Upload widget is only available when the cell has been executed in the\n",
              "      current browser session. Please rerun this cell to enable.\n",
              "      </output>\n",
              "      <script src=\"/nbextensions/google.colab/files.js\"></script> "
            ],
            "text/plain": [
              "<IPython.core.display.HTML object>"
            ]
          },
          "metadata": {
            "tags": []
          }
        },
        {
          "output_type": "stream",
          "text": [
            "Saving test.csv to test.csv\n"
          ],
          "name": "stdout"
        }
      ]
    },
    {
      "metadata": {
        "id": "xAY7t7V2YjeL",
        "colab_type": "code",
        "colab": {}
      },
      "cell_type": "code",
      "source": [
        "test_df = pd.read_csv(io.BytesIO(uploaded['test.csv']))"
      ],
      "execution_count": 0,
      "outputs": []
    },
    {
      "metadata": {
        "id": "bfsvlJwLY1E5",
        "colab_type": "text"
      },
      "cell_type": "markdown",
      "source": [
        "check for the features we have in train and test datasets"
      ]
    },
    {
      "metadata": {
        "id": "oezu2pPMY-iQ",
        "colab_type": "code",
        "outputId": "b74f378e-ac5c-43e3-894e-071eea6e7930",
        "colab": {
          "base_uri": "https://localhost:8080/",
          "height": 87
        }
      },
      "cell_type": "code",
      "source": [
        "print(train_df.columns.values)\n",
        "print(test_df.columns.values)"
      ],
      "execution_count": 6,
      "outputs": [
        {
          "output_type": "stream",
          "text": [
            "['PassengerId' 'Survived' 'Pclass' 'Name' 'Sex' 'Age' 'SibSp' 'Parch'\n",
            " 'Ticket' 'Fare' 'Cabin' 'Embarked']\n",
            "['PassengerId' 'Pclass' 'Name' 'Sex' 'Age' 'SibSp' 'Parch' 'Ticket' 'Fare'\n",
            " 'Cabin' 'Embarked']\n"
          ],
          "name": "stdout"
        }
      ]
    },
    {
      "metadata": {
        "id": "Hk9be6HaZFxi",
        "colab_type": "text"
      },
      "cell_type": "markdown",
      "source": [
        "Droping Ticket' and 'Cabin' features as they are not exactly needed for training."
      ]
    },
    {
      "metadata": {
        "id": "drDi3PHoZcXS",
        "colab_type": "code",
        "colab": {}
      },
      "cell_type": "code",
      "source": [
        "train_df = train_df.drop(['Ticket', 'Cabin'], axis=1)\n",
        "test_df = test_df.drop(['Ticket', 'Cabin'], axis=1)\n",
        "combine = [train_df, test_df]\n"
      ],
      "execution_count": 0,
      "outputs": []
    },
    {
      "metadata": {
        "id": "0dHs69jvZaum",
        "colab_type": "code",
        "outputId": "91fbd1d8-bb96-428a-fdea-ddcf5bee7d34",
        "colab": {
          "base_uri": "https://localhost:8080/",
          "height": 34
        }
      },
      "cell_type": "code",
      "source": [
        "\"After\", train_df.shape, test_df.shape, combine[0].shape, combine[1].shape"
      ],
      "execution_count": 9,
      "outputs": [
        {
          "output_type": "execute_result",
          "data": {
            "text/plain": [
              "('After', (891, 10), (418, 9), (891, 10), (418, 9))"
            ]
          },
          "metadata": {
            "tags": []
          },
          "execution_count": 9
        }
      ]
    },
    {
      "metadata": {
        "id": "g_79xT5wZ-vn",
        "colab_type": "text"
      },
      "cell_type": "markdown",
      "source": [
        "Adding a column called 'Title' through extracting the surname from the name column.\n",
        "Calculating the 'Sex' column  for each row of 'Title'"
      ]
    },
    {
      "metadata": {
        "id": "OjQDl-fyaUZE",
        "colab_type": "code",
        "outputId": "44c9ce42-db93-4778-cbfe-1153d152c64f",
        "colab": {
          "base_uri": "https://localhost:8080/",
          "height": 587
        }
      },
      "cell_type": "code",
      "source": [
        "for dataset in combine:\n",
        "    dataset['Title'] = dataset.Name.str.extract(' ([A-Za-z]+)\\.', expand=False)\n",
        "\n",
        "pd.crosstab(train_df['Title'], train_df['Sex'])"
      ],
      "execution_count": 10,
      "outputs": [
        {
          "output_type": "execute_result",
          "data": {
            "text/html": [
              "<div>\n",
              "<style scoped>\n",
              "    .dataframe tbody tr th:only-of-type {\n",
              "        vertical-align: middle;\n",
              "    }\n",
              "\n",
              "    .dataframe tbody tr th {\n",
              "        vertical-align: top;\n",
              "    }\n",
              "\n",
              "    .dataframe thead th {\n",
              "        text-align: right;\n",
              "    }\n",
              "</style>\n",
              "<table border=\"1\" class=\"dataframe\">\n",
              "  <thead>\n",
              "    <tr style=\"text-align: right;\">\n",
              "      <th>Sex</th>\n",
              "      <th>female</th>\n",
              "      <th>male</th>\n",
              "    </tr>\n",
              "    <tr>\n",
              "      <th>Title</th>\n",
              "      <th></th>\n",
              "      <th></th>\n",
              "    </tr>\n",
              "  </thead>\n",
              "  <tbody>\n",
              "    <tr>\n",
              "      <th>Capt</th>\n",
              "      <td>0</td>\n",
              "      <td>1</td>\n",
              "    </tr>\n",
              "    <tr>\n",
              "      <th>Col</th>\n",
              "      <td>0</td>\n",
              "      <td>2</td>\n",
              "    </tr>\n",
              "    <tr>\n",
              "      <th>Countess</th>\n",
              "      <td>1</td>\n",
              "      <td>0</td>\n",
              "    </tr>\n",
              "    <tr>\n",
              "      <th>Don</th>\n",
              "      <td>0</td>\n",
              "      <td>1</td>\n",
              "    </tr>\n",
              "    <tr>\n",
              "      <th>Dr</th>\n",
              "      <td>1</td>\n",
              "      <td>6</td>\n",
              "    </tr>\n",
              "    <tr>\n",
              "      <th>Jonkheer</th>\n",
              "      <td>0</td>\n",
              "      <td>1</td>\n",
              "    </tr>\n",
              "    <tr>\n",
              "      <th>Lady</th>\n",
              "      <td>1</td>\n",
              "      <td>0</td>\n",
              "    </tr>\n",
              "    <tr>\n",
              "      <th>Major</th>\n",
              "      <td>0</td>\n",
              "      <td>2</td>\n",
              "    </tr>\n",
              "    <tr>\n",
              "      <th>Master</th>\n",
              "      <td>0</td>\n",
              "      <td>40</td>\n",
              "    </tr>\n",
              "    <tr>\n",
              "      <th>Miss</th>\n",
              "      <td>182</td>\n",
              "      <td>0</td>\n",
              "    </tr>\n",
              "    <tr>\n",
              "      <th>Mlle</th>\n",
              "      <td>2</td>\n",
              "      <td>0</td>\n",
              "    </tr>\n",
              "    <tr>\n",
              "      <th>Mme</th>\n",
              "      <td>1</td>\n",
              "      <td>0</td>\n",
              "    </tr>\n",
              "    <tr>\n",
              "      <th>Mr</th>\n",
              "      <td>0</td>\n",
              "      <td>517</td>\n",
              "    </tr>\n",
              "    <tr>\n",
              "      <th>Mrs</th>\n",
              "      <td>125</td>\n",
              "      <td>0</td>\n",
              "    </tr>\n",
              "    <tr>\n",
              "      <th>Ms</th>\n",
              "      <td>1</td>\n",
              "      <td>0</td>\n",
              "    </tr>\n",
              "    <tr>\n",
              "      <th>Rev</th>\n",
              "      <td>0</td>\n",
              "      <td>6</td>\n",
              "    </tr>\n",
              "    <tr>\n",
              "      <th>Sir</th>\n",
              "      <td>0</td>\n",
              "      <td>1</td>\n",
              "    </tr>\n",
              "  </tbody>\n",
              "</table>\n",
              "</div>"
            ],
            "text/plain": [
              "Sex       female  male\n",
              "Title                 \n",
              "Capt           0     1\n",
              "Col            0     2\n",
              "Countess       1     0\n",
              "Don            0     1\n",
              "Dr             1     6\n",
              "Jonkheer       0     1\n",
              "Lady           1     0\n",
              "Major          0     2\n",
              "Master         0    40\n",
              "Miss         182     0\n",
              "Mlle           2     0\n",
              "Mme            1     0\n",
              "Mr             0   517\n",
              "Mrs          125     0\n",
              "Ms             1     0\n",
              "Rev            0     6\n",
              "Sir            0     1"
            ]
          },
          "metadata": {
            "tags": []
          },
          "execution_count": 10
        }
      ]
    },
    {
      "metadata": {
        "id": "o_5RjIWta0l9",
        "colab_type": "text"
      },
      "cell_type": "markdown",
      "source": [
        "Replacing the values of 'Title' column with  maximum repeated ones."
      ]
    },
    {
      "metadata": {
        "id": "46r9c0fFa65R",
        "colab_type": "code",
        "colab": {}
      },
      "cell_type": "code",
      "source": [
        "for dataset in combine:\n",
        "    dataset['Title'] = dataset['Title'].replace(['Lady', 'Countess','Capt', 'Col',\\\n",
        " \t'Don', 'Dr', 'Major', 'Rev', 'Sir', 'Jonkheer', 'Dona'], 'others')\n",
        "\n",
        "    dataset['Title'] = dataset['Title'].replace('Mlle', 'Miss')\n",
        "    dataset['Title'] = dataset['Title'].replace('Ms', 'Miss')\n",
        "    dataset['Title'] = dataset['Title'].replace('Mme', 'Mrs')"
      ],
      "execution_count": 0,
      "outputs": []
    },
    {
      "metadata": {
        "id": "yEKALM7QbTKR",
        "colab_type": "text"
      },
      "cell_type": "markdown",
      "source": [
        "Grouping the \"Title\" and \"Survived \" column for calulating the preferences which were given."
      ]
    },
    {
      "metadata": {
        "id": "DvPM_0kDbW2J",
        "colab_type": "code",
        "outputId": "83a71f5e-0bf8-4659-9ecd-0aee7b0d1594",
        "colab": {
          "base_uri": "https://localhost:8080/",
          "height": 197
        }
      },
      "cell_type": "code",
      "source": [
        "train_df[['Title', 'Survived']].groupby(['Title'], as_index=False).mean()"
      ],
      "execution_count": 12,
      "outputs": [
        {
          "output_type": "execute_result",
          "data": {
            "text/html": [
              "<div>\n",
              "<style scoped>\n",
              "    .dataframe tbody tr th:only-of-type {\n",
              "        vertical-align: middle;\n",
              "    }\n",
              "\n",
              "    .dataframe tbody tr th {\n",
              "        vertical-align: top;\n",
              "    }\n",
              "\n",
              "    .dataframe thead th {\n",
              "        text-align: right;\n",
              "    }\n",
              "</style>\n",
              "<table border=\"1\" class=\"dataframe\">\n",
              "  <thead>\n",
              "    <tr style=\"text-align: right;\">\n",
              "      <th></th>\n",
              "      <th>Title</th>\n",
              "      <th>Survived</th>\n",
              "    </tr>\n",
              "  </thead>\n",
              "  <tbody>\n",
              "    <tr>\n",
              "      <th>0</th>\n",
              "      <td>Master</td>\n",
              "      <td>0.575000</td>\n",
              "    </tr>\n",
              "    <tr>\n",
              "      <th>1</th>\n",
              "      <td>Miss</td>\n",
              "      <td>0.702703</td>\n",
              "    </tr>\n",
              "    <tr>\n",
              "      <th>2</th>\n",
              "      <td>Mr</td>\n",
              "      <td>0.156673</td>\n",
              "    </tr>\n",
              "    <tr>\n",
              "      <th>3</th>\n",
              "      <td>Mrs</td>\n",
              "      <td>0.793651</td>\n",
              "    </tr>\n",
              "    <tr>\n",
              "      <th>4</th>\n",
              "      <td>others</td>\n",
              "      <td>0.347826</td>\n",
              "    </tr>\n",
              "  </tbody>\n",
              "</table>\n",
              "</div>"
            ],
            "text/plain": [
              "    Title  Survived\n",
              "0  Master  0.575000\n",
              "1    Miss  0.702703\n",
              "2      Mr  0.156673\n",
              "3     Mrs  0.793651\n",
              "4  others  0.347826"
            ]
          },
          "metadata": {
            "tags": []
          },
          "execution_count": 12
        }
      ]
    },
    {
      "metadata": {
        "id": "wCulB7cnb4h8",
        "colab_type": "text"
      },
      "cell_type": "markdown",
      "source": [
        "From this we can  see that women and children were given preferences than others.\n",
        "\n",
        "replacing it with digits."
      ]
    },
    {
      "metadata": {
        "id": "6jDxmCQYcaz-",
        "colab_type": "code",
        "colab": {}
      },
      "cell_type": "code",
      "source": [
        "title_mapping = {\"Mr\": 1, \"Miss\": 2, \"Mrs\": 3, \"Master\": 4, \"Rare\": 5}\n",
        "for dataset in combine:\n",
        "    dataset['Title'] = dataset['Title'].map(title_mapping)\n",
        "    dataset['Title'] = dataset['Title'].fillna(0)\n"
      ],
      "execution_count": 0,
      "outputs": []
    },
    {
      "metadata": {
        "id": "xMnZbb8ocmpc",
        "colab_type": "code",
        "outputId": "49ee5a72-7b0c-4bc7-a1d5-b94baee58b58",
        "colab": {
          "base_uri": "https://localhost:8080/",
          "height": 197
        }
      },
      "cell_type": "code",
      "source": [
        "train_df.head()"
      ],
      "execution_count": 14,
      "outputs": [
        {
          "output_type": "execute_result",
          "data": {
            "text/html": [
              "<div>\n",
              "<style scoped>\n",
              "    .dataframe tbody tr th:only-of-type {\n",
              "        vertical-align: middle;\n",
              "    }\n",
              "\n",
              "    .dataframe tbody tr th {\n",
              "        vertical-align: top;\n",
              "    }\n",
              "\n",
              "    .dataframe thead th {\n",
              "        text-align: right;\n",
              "    }\n",
              "</style>\n",
              "<table border=\"1\" class=\"dataframe\">\n",
              "  <thead>\n",
              "    <tr style=\"text-align: right;\">\n",
              "      <th></th>\n",
              "      <th>PassengerId</th>\n",
              "      <th>Survived</th>\n",
              "      <th>Pclass</th>\n",
              "      <th>Name</th>\n",
              "      <th>Sex</th>\n",
              "      <th>Age</th>\n",
              "      <th>SibSp</th>\n",
              "      <th>Parch</th>\n",
              "      <th>Fare</th>\n",
              "      <th>Embarked</th>\n",
              "      <th>Title</th>\n",
              "    </tr>\n",
              "  </thead>\n",
              "  <tbody>\n",
              "    <tr>\n",
              "      <th>0</th>\n",
              "      <td>2</td>\n",
              "      <td>1</td>\n",
              "      <td>1</td>\n",
              "      <td>Cumings, Mrs. John Bradley (Florence Briggs Th...</td>\n",
              "      <td>female</td>\n",
              "      <td>38.0</td>\n",
              "      <td>1</td>\n",
              "      <td>0</td>\n",
              "      <td>71.2833</td>\n",
              "      <td>C</td>\n",
              "      <td>3.0</td>\n",
              "    </tr>\n",
              "    <tr>\n",
              "      <th>1</th>\n",
              "      <td>3</td>\n",
              "      <td>1</td>\n",
              "      <td>3</td>\n",
              "      <td>Heikkinen, Miss. Laina</td>\n",
              "      <td>female</td>\n",
              "      <td>26.0</td>\n",
              "      <td>0</td>\n",
              "      <td>0</td>\n",
              "      <td>7.9250</td>\n",
              "      <td>S</td>\n",
              "      <td>2.0</td>\n",
              "    </tr>\n",
              "    <tr>\n",
              "      <th>2</th>\n",
              "      <td>4</td>\n",
              "      <td>1</td>\n",
              "      <td>1</td>\n",
              "      <td>Futrelle, Mrs. Jacques Heath (Lily May Peel)</td>\n",
              "      <td>female</td>\n",
              "      <td>35.0</td>\n",
              "      <td>1</td>\n",
              "      <td>0</td>\n",
              "      <td>53.1000</td>\n",
              "      <td>S</td>\n",
              "      <td>3.0</td>\n",
              "    </tr>\n",
              "    <tr>\n",
              "      <th>3</th>\n",
              "      <td>9</td>\n",
              "      <td>1</td>\n",
              "      <td>3</td>\n",
              "      <td>Johnson, Mrs. Oscar W (Elisabeth Vilhelmina Berg)</td>\n",
              "      <td>female</td>\n",
              "      <td>27.0</td>\n",
              "      <td>0</td>\n",
              "      <td>2</td>\n",
              "      <td>11.1333</td>\n",
              "      <td>S</td>\n",
              "      <td>3.0</td>\n",
              "    </tr>\n",
              "    <tr>\n",
              "      <th>4</th>\n",
              "      <td>10</td>\n",
              "      <td>1</td>\n",
              "      <td>2</td>\n",
              "      <td>Nasser, Mrs. Nicholas (Adele Achem)</td>\n",
              "      <td>female</td>\n",
              "      <td>14.0</td>\n",
              "      <td>1</td>\n",
              "      <td>0</td>\n",
              "      <td>30.0708</td>\n",
              "      <td>C</td>\n",
              "      <td>3.0</td>\n",
              "    </tr>\n",
              "  </tbody>\n",
              "</table>\n",
              "</div>"
            ],
            "text/plain": [
              "   PassengerId  Survived  Pclass  \\\n",
              "0            2         1       1   \n",
              "1            3         1       3   \n",
              "2            4         1       1   \n",
              "3            9         1       3   \n",
              "4           10         1       2   \n",
              "\n",
              "                                                Name     Sex   Age  SibSp  \\\n",
              "0  Cumings, Mrs. John Bradley (Florence Briggs Th...  female  38.0      1   \n",
              "1                             Heikkinen, Miss. Laina  female  26.0      0   \n",
              "2       Futrelle, Mrs. Jacques Heath (Lily May Peel)  female  35.0      1   \n",
              "3  Johnson, Mrs. Oscar W (Elisabeth Vilhelmina Berg)  female  27.0      0   \n",
              "4                Nasser, Mrs. Nicholas (Adele Achem)  female  14.0      1   \n",
              "\n",
              "   Parch     Fare Embarked  Title  \n",
              "0      0  71.2833        C    3.0  \n",
              "1      0   7.9250        S    2.0  \n",
              "2      0  53.1000        S    3.0  \n",
              "3      2  11.1333        S    3.0  \n",
              "4      0  30.0708        C    3.0  "
            ]
          },
          "metadata": {
            "tags": []
          },
          "execution_count": 14
        }
      ]
    },
    {
      "metadata": {
        "id": "HeZkfhkGcupL",
        "colab_type": "text"
      },
      "cell_type": "markdown",
      "source": [
        "Droping 'Name' and 'PassengerId' features as they are not exactly needed for training."
      ]
    },
    {
      "metadata": {
        "id": "3JLenIWOcu5N",
        "colab_type": "code",
        "outputId": "cd013cf2-b0d9-4ffb-c0df-34f1a90c6389",
        "colab": {
          "base_uri": "https://localhost:8080/",
          "height": 34
        }
      },
      "cell_type": "code",
      "source": [
        "train_df = train_df.drop(['Name','PassengerId'],axis = 1)\n",
        "test_df = test_df.drop(['Name'],axis = 1)\n",
        "combine = [train_df, test_df]\n",
        "train_df.shape, test_df.shape"
      ],
      "execution_count": 15,
      "outputs": [
        {
          "output_type": "execute_result",
          "data": {
            "text/plain": [
              "((891, 9), (418, 9))"
            ]
          },
          "metadata": {
            "tags": []
          },
          "execution_count": 15
        }
      ]
    },
    {
      "metadata": {
        "id": "UL9gi-4OdMYF",
        "colab_type": "code",
        "outputId": "b9f205dc-9af7-4be8-d0c5-19b42dd7b68e",
        "colab": {
          "base_uri": "https://localhost:8080/",
          "height": 197
        }
      },
      "cell_type": "code",
      "source": [
        "train_df.tail()"
      ],
      "execution_count": 16,
      "outputs": [
        {
          "output_type": "execute_result",
          "data": {
            "text/html": [
              "<div>\n",
              "<style scoped>\n",
              "    .dataframe tbody tr th:only-of-type {\n",
              "        vertical-align: middle;\n",
              "    }\n",
              "\n",
              "    .dataframe tbody tr th {\n",
              "        vertical-align: top;\n",
              "    }\n",
              "\n",
              "    .dataframe thead th {\n",
              "        text-align: right;\n",
              "    }\n",
              "</style>\n",
              "<table border=\"1\" class=\"dataframe\">\n",
              "  <thead>\n",
              "    <tr style=\"text-align: right;\">\n",
              "      <th></th>\n",
              "      <th>Survived</th>\n",
              "      <th>Pclass</th>\n",
              "      <th>Sex</th>\n",
              "      <th>Age</th>\n",
              "      <th>SibSp</th>\n",
              "      <th>Parch</th>\n",
              "      <th>Fare</th>\n",
              "      <th>Embarked</th>\n",
              "      <th>Title</th>\n",
              "    </tr>\n",
              "  </thead>\n",
              "  <tbody>\n",
              "    <tr>\n",
              "      <th>886</th>\n",
              "      <td>0</td>\n",
              "      <td>3</td>\n",
              "      <td>male</td>\n",
              "      <td>33.0</td>\n",
              "      <td>0</td>\n",
              "      <td>0</td>\n",
              "      <td>7.8958</td>\n",
              "      <td>S</td>\n",
              "      <td>1.0</td>\n",
              "    </tr>\n",
              "    <tr>\n",
              "      <th>887</th>\n",
              "      <td>0</td>\n",
              "      <td>2</td>\n",
              "      <td>male</td>\n",
              "      <td>28.0</td>\n",
              "      <td>0</td>\n",
              "      <td>0</td>\n",
              "      <td>10.5000</td>\n",
              "      <td>S</td>\n",
              "      <td>1.0</td>\n",
              "    </tr>\n",
              "    <tr>\n",
              "      <th>888</th>\n",
              "      <td>0</td>\n",
              "      <td>3</td>\n",
              "      <td>male</td>\n",
              "      <td>25.0</td>\n",
              "      <td>0</td>\n",
              "      <td>0</td>\n",
              "      <td>7.0500</td>\n",
              "      <td>S</td>\n",
              "      <td>1.0</td>\n",
              "    </tr>\n",
              "    <tr>\n",
              "      <th>889</th>\n",
              "      <td>0</td>\n",
              "      <td>2</td>\n",
              "      <td>male</td>\n",
              "      <td>27.0</td>\n",
              "      <td>0</td>\n",
              "      <td>0</td>\n",
              "      <td>13.0000</td>\n",
              "      <td>S</td>\n",
              "      <td>0.0</td>\n",
              "    </tr>\n",
              "    <tr>\n",
              "      <th>890</th>\n",
              "      <td>0</td>\n",
              "      <td>3</td>\n",
              "      <td>male</td>\n",
              "      <td>32.0</td>\n",
              "      <td>0</td>\n",
              "      <td>0</td>\n",
              "      <td>7.7500</td>\n",
              "      <td>Q</td>\n",
              "      <td>1.0</td>\n",
              "    </tr>\n",
              "  </tbody>\n",
              "</table>\n",
              "</div>"
            ],
            "text/plain": [
              "     Survived  Pclass   Sex   Age  SibSp  Parch     Fare Embarked  Title\n",
              "886         0       3  male  33.0      0      0   7.8958        S    1.0\n",
              "887         0       2  male  28.0      0      0  10.5000        S    1.0\n",
              "888         0       3  male  25.0      0      0   7.0500        S    1.0\n",
              "889         0       2  male  27.0      0      0  13.0000        S    0.0\n",
              "890         0       3  male  32.0      0      0   7.7500        Q    1.0"
            ]
          },
          "metadata": {
            "tags": []
          },
          "execution_count": 16
        }
      ]
    },
    {
      "metadata": {
        "id": "seUG0v9jcy9E",
        "colab_type": "text"
      },
      "cell_type": "markdown",
      "source": [
        "Replacing 'male' with '0' and 'female' with '1'."
      ]
    },
    {
      "metadata": {
        "id": "ebuWpnFZdahJ",
        "colab_type": "code",
        "colab": {}
      },
      "cell_type": "code",
      "source": [
        "sex_mapping ={'male':0,'female':1}\n",
        "for dataset in combine:\n",
        "  dataset['Sex'] = dataset['Sex'].map(sex_mapping).astype(int)"
      ],
      "execution_count": 0,
      "outputs": []
    },
    {
      "metadata": {
        "id": "TzzflVpidhAF",
        "colab_type": "code",
        "outputId": "7f17d22a-dbef-4347-81a5-6158322345f7",
        "colab": {
          "base_uri": "https://localhost:8080/",
          "height": 197
        }
      },
      "cell_type": "code",
      "source": [
        "train_df.head()"
      ],
      "execution_count": 18,
      "outputs": [
        {
          "output_type": "execute_result",
          "data": {
            "text/html": [
              "<div>\n",
              "<style scoped>\n",
              "    .dataframe tbody tr th:only-of-type {\n",
              "        vertical-align: middle;\n",
              "    }\n",
              "\n",
              "    .dataframe tbody tr th {\n",
              "        vertical-align: top;\n",
              "    }\n",
              "\n",
              "    .dataframe thead th {\n",
              "        text-align: right;\n",
              "    }\n",
              "</style>\n",
              "<table border=\"1\" class=\"dataframe\">\n",
              "  <thead>\n",
              "    <tr style=\"text-align: right;\">\n",
              "      <th></th>\n",
              "      <th>Survived</th>\n",
              "      <th>Pclass</th>\n",
              "      <th>Sex</th>\n",
              "      <th>Age</th>\n",
              "      <th>SibSp</th>\n",
              "      <th>Parch</th>\n",
              "      <th>Fare</th>\n",
              "      <th>Embarked</th>\n",
              "      <th>Title</th>\n",
              "    </tr>\n",
              "  </thead>\n",
              "  <tbody>\n",
              "    <tr>\n",
              "      <th>0</th>\n",
              "      <td>1</td>\n",
              "      <td>1</td>\n",
              "      <td>1</td>\n",
              "      <td>38.0</td>\n",
              "      <td>1</td>\n",
              "      <td>0</td>\n",
              "      <td>71.2833</td>\n",
              "      <td>C</td>\n",
              "      <td>3.0</td>\n",
              "    </tr>\n",
              "    <tr>\n",
              "      <th>1</th>\n",
              "      <td>1</td>\n",
              "      <td>3</td>\n",
              "      <td>1</td>\n",
              "      <td>26.0</td>\n",
              "      <td>0</td>\n",
              "      <td>0</td>\n",
              "      <td>7.9250</td>\n",
              "      <td>S</td>\n",
              "      <td>2.0</td>\n",
              "    </tr>\n",
              "    <tr>\n",
              "      <th>2</th>\n",
              "      <td>1</td>\n",
              "      <td>1</td>\n",
              "      <td>1</td>\n",
              "      <td>35.0</td>\n",
              "      <td>1</td>\n",
              "      <td>0</td>\n",
              "      <td>53.1000</td>\n",
              "      <td>S</td>\n",
              "      <td>3.0</td>\n",
              "    </tr>\n",
              "    <tr>\n",
              "      <th>3</th>\n",
              "      <td>1</td>\n",
              "      <td>3</td>\n",
              "      <td>1</td>\n",
              "      <td>27.0</td>\n",
              "      <td>0</td>\n",
              "      <td>2</td>\n",
              "      <td>11.1333</td>\n",
              "      <td>S</td>\n",
              "      <td>3.0</td>\n",
              "    </tr>\n",
              "    <tr>\n",
              "      <th>4</th>\n",
              "      <td>1</td>\n",
              "      <td>2</td>\n",
              "      <td>1</td>\n",
              "      <td>14.0</td>\n",
              "      <td>1</td>\n",
              "      <td>0</td>\n",
              "      <td>30.0708</td>\n",
              "      <td>C</td>\n",
              "      <td>3.0</td>\n",
              "    </tr>\n",
              "  </tbody>\n",
              "</table>\n",
              "</div>"
            ],
            "text/plain": [
              "   Survived  Pclass  Sex   Age  SibSp  Parch     Fare Embarked  Title\n",
              "0         1       1    1  38.0      1      0  71.2833        C    3.0\n",
              "1         1       3    1  26.0      0      0   7.9250        S    2.0\n",
              "2         1       1    1  35.0      1      0  53.1000        S    3.0\n",
              "3         1       3    1  27.0      0      2  11.1333        S    3.0\n",
              "4         1       2    1  14.0      1      0  30.0708        C    3.0"
            ]
          },
          "metadata": {
            "tags": []
          },
          "execution_count": 18
        }
      ]
    },
    {
      "metadata": {
        "id": "oR0lIfSLdxnK",
        "colab_type": "text"
      },
      "cell_type": "markdown",
      "source": [
        "Replacing null in 'Age' column with an average value."
      ]
    },
    {
      "metadata": {
        "id": "EyNXp38xdx2Y",
        "colab_type": "code",
        "outputId": "eb984b17-1881-4314-fa6d-0a4fc6a08ab1",
        "colab": {
          "base_uri": "https://localhost:8080/",
          "height": 52
        }
      },
      "cell_type": "code",
      "source": [
        "guess_ages = np.zeros((2,3))\n",
        "guess_ages"
      ],
      "execution_count": 19,
      "outputs": [
        {
          "output_type": "execute_result",
          "data": {
            "text/plain": [
              "array([[0., 0., 0.],\n",
              "       [0., 0., 0.]])"
            ]
          },
          "metadata": {
            "tags": []
          },
          "execution_count": 19
        }
      ]
    },
    {
      "metadata": {
        "id": "evH8CqeVeMQZ",
        "colab_type": "code",
        "outputId": "2cc49fc9-4aea-4749-d0da-c0165c77b1f3",
        "colab": {
          "base_uri": "https://localhost:8080/",
          "height": 197
        }
      },
      "cell_type": "code",
      "source": [
        "for dataset in combine:\n",
        "    for i in range(0, 2):\n",
        "        for j in range(0, 3):\n",
        "            guess_df = dataset[(dataset['Sex'] == i) & \\\n",
        "                                  (dataset['Pclass'] == j+1)]['Age'].dropna()\n",
        "\n",
        "            # age_mean = guess_df.mean()\n",
        "            # age_std = guess_df.std()\n",
        "            # age_guess = rnd.uniform(age_mean - age_std, age_mean + age_std)\n",
        "\n",
        "            age_guess = guess_df.median()\n",
        "\n",
        "            # Convert random age float to nearest .5 age\n",
        "            guess_ages[i,j] = int( age_guess/0.5 + 0.5 ) * 0.5\n",
        "            \n",
        "    for i in range(0, 2):\n",
        "        for j in range(0, 3):\n",
        "            dataset.loc[ (dataset.Age.isnull()) & (dataset.Sex == i) & (dataset.Pclass == j+1),\\\n",
        "                    'Age'] = guess_ages[i,j]\n",
        "\n",
        "    dataset['Age'] = dataset['Age'].astype(int)\n",
        "\n",
        "train_df.head()"
      ],
      "execution_count": 20,
      "outputs": [
        {
          "output_type": "execute_result",
          "data": {
            "text/html": [
              "<div>\n",
              "<style scoped>\n",
              "    .dataframe tbody tr th:only-of-type {\n",
              "        vertical-align: middle;\n",
              "    }\n",
              "\n",
              "    .dataframe tbody tr th {\n",
              "        vertical-align: top;\n",
              "    }\n",
              "\n",
              "    .dataframe thead th {\n",
              "        text-align: right;\n",
              "    }\n",
              "</style>\n",
              "<table border=\"1\" class=\"dataframe\">\n",
              "  <thead>\n",
              "    <tr style=\"text-align: right;\">\n",
              "      <th></th>\n",
              "      <th>Survived</th>\n",
              "      <th>Pclass</th>\n",
              "      <th>Sex</th>\n",
              "      <th>Age</th>\n",
              "      <th>SibSp</th>\n",
              "      <th>Parch</th>\n",
              "      <th>Fare</th>\n",
              "      <th>Embarked</th>\n",
              "      <th>Title</th>\n",
              "    </tr>\n",
              "  </thead>\n",
              "  <tbody>\n",
              "    <tr>\n",
              "      <th>0</th>\n",
              "      <td>1</td>\n",
              "      <td>1</td>\n",
              "      <td>1</td>\n",
              "      <td>38</td>\n",
              "      <td>1</td>\n",
              "      <td>0</td>\n",
              "      <td>71.2833</td>\n",
              "      <td>C</td>\n",
              "      <td>3.0</td>\n",
              "    </tr>\n",
              "    <tr>\n",
              "      <th>1</th>\n",
              "      <td>1</td>\n",
              "      <td>3</td>\n",
              "      <td>1</td>\n",
              "      <td>26</td>\n",
              "      <td>0</td>\n",
              "      <td>0</td>\n",
              "      <td>7.9250</td>\n",
              "      <td>S</td>\n",
              "      <td>2.0</td>\n",
              "    </tr>\n",
              "    <tr>\n",
              "      <th>2</th>\n",
              "      <td>1</td>\n",
              "      <td>1</td>\n",
              "      <td>1</td>\n",
              "      <td>35</td>\n",
              "      <td>1</td>\n",
              "      <td>0</td>\n",
              "      <td>53.1000</td>\n",
              "      <td>S</td>\n",
              "      <td>3.0</td>\n",
              "    </tr>\n",
              "    <tr>\n",
              "      <th>3</th>\n",
              "      <td>1</td>\n",
              "      <td>3</td>\n",
              "      <td>1</td>\n",
              "      <td>27</td>\n",
              "      <td>0</td>\n",
              "      <td>2</td>\n",
              "      <td>11.1333</td>\n",
              "      <td>S</td>\n",
              "      <td>3.0</td>\n",
              "    </tr>\n",
              "    <tr>\n",
              "      <th>4</th>\n",
              "      <td>1</td>\n",
              "      <td>2</td>\n",
              "      <td>1</td>\n",
              "      <td>14</td>\n",
              "      <td>1</td>\n",
              "      <td>0</td>\n",
              "      <td>30.0708</td>\n",
              "      <td>C</td>\n",
              "      <td>3.0</td>\n",
              "    </tr>\n",
              "  </tbody>\n",
              "</table>\n",
              "</div>"
            ],
            "text/plain": [
              "   Survived  Pclass  Sex  Age  SibSp  Parch     Fare Embarked  Title\n",
              "0         1       1    1   38      1      0  71.2833        C    3.0\n",
              "1         1       3    1   26      0      0   7.9250        S    2.0\n",
              "2         1       1    1   35      1      0  53.1000        S    3.0\n",
              "3         1       3    1   27      0      2  11.1333        S    3.0\n",
              "4         1       2    1   14      1      0  30.0708        C    3.0"
            ]
          },
          "metadata": {
            "tags": []
          },
          "execution_count": 20
        }
      ]
    },
    {
      "metadata": {
        "id": "l9lpSHh0eY5A",
        "colab_type": "text"
      },
      "cell_type": "markdown",
      "source": [
        "Adding 'AgeBand' column."
      ]
    },
    {
      "metadata": {
        "id": "5xo60o-UeYcE",
        "colab_type": "code",
        "outputId": "969abe6e-b1f5-4987-acfd-96f10e00174d",
        "colab": {
          "base_uri": "https://localhost:8080/",
          "height": 197
        }
      },
      "cell_type": "code",
      "source": [
        "train_df['AgeBand'] = pd.cut(train_df['Age'], 5)\n",
        "train_df[['AgeBand', 'Survived']].groupby(['AgeBand'], as_index=False).mean().sort_values(by='AgeBand', ascending=True)"
      ],
      "execution_count": 21,
      "outputs": [
        {
          "output_type": "execute_result",
          "data": {
            "text/html": [
              "<div>\n",
              "<style scoped>\n",
              "    .dataframe tbody tr th:only-of-type {\n",
              "        vertical-align: middle;\n",
              "    }\n",
              "\n",
              "    .dataframe tbody tr th {\n",
              "        vertical-align: top;\n",
              "    }\n",
              "\n",
              "    .dataframe thead th {\n",
              "        text-align: right;\n",
              "    }\n",
              "</style>\n",
              "<table border=\"1\" class=\"dataframe\">\n",
              "  <thead>\n",
              "    <tr style=\"text-align: right;\">\n",
              "      <th></th>\n",
              "      <th>AgeBand</th>\n",
              "      <th>Survived</th>\n",
              "    </tr>\n",
              "  </thead>\n",
              "  <tbody>\n",
              "    <tr>\n",
              "      <th>0</th>\n",
              "      <td>(-0.08, 16.0]</td>\n",
              "      <td>0.550000</td>\n",
              "    </tr>\n",
              "    <tr>\n",
              "      <th>1</th>\n",
              "      <td>(16.0, 32.0]</td>\n",
              "      <td>0.337374</td>\n",
              "    </tr>\n",
              "    <tr>\n",
              "      <th>2</th>\n",
              "      <td>(32.0, 48.0]</td>\n",
              "      <td>0.412037</td>\n",
              "    </tr>\n",
              "    <tr>\n",
              "      <th>3</th>\n",
              "      <td>(48.0, 64.0]</td>\n",
              "      <td>0.434783</td>\n",
              "    </tr>\n",
              "    <tr>\n",
              "      <th>4</th>\n",
              "      <td>(64.0, 80.0]</td>\n",
              "      <td>0.090909</td>\n",
              "    </tr>\n",
              "  </tbody>\n",
              "</table>\n",
              "</div>"
            ],
            "text/plain": [
              "         AgeBand  Survived\n",
              "0  (-0.08, 16.0]  0.550000\n",
              "1   (16.0, 32.0]  0.337374\n",
              "2   (32.0, 48.0]  0.412037\n",
              "3   (48.0, 64.0]  0.434783\n",
              "4   (64.0, 80.0]  0.090909"
            ]
          },
          "metadata": {
            "tags": []
          },
          "execution_count": 21
        }
      ]
    },
    {
      "metadata": {
        "id": "LUMdUSGYf-iX",
        "colab_type": "text"
      },
      "cell_type": "markdown",
      "source": [
        "Replacing Age with 0,1,2,3 inorder to increase the training efficiency."
      ]
    },
    {
      "metadata": {
        "id": "do4rCmcmepxy",
        "colab_type": "code",
        "outputId": "1d947749-c77a-47b6-bf84-fefbe71c4153",
        "colab": {
          "base_uri": "https://localhost:8080/",
          "height": 197
        }
      },
      "cell_type": "code",
      "source": [
        "for dataset in combine:    \n",
        "    dataset.loc[ dataset['Age'] <= 16, 'Age'] = 0\n",
        "    dataset.loc[(dataset['Age'] > 16) & (dataset['Age'] <= 32), 'Age'] = 1\n",
        "    dataset.loc[(dataset['Age'] > 32) & (dataset['Age'] <= 48), 'Age'] = 2\n",
        "    dataset.loc[(dataset['Age'] > 48) & (dataset['Age'] <= 64), 'Age'] = 3\n",
        "    dataset.loc[ dataset['Age'] > 64, 'Age']\n",
        "train_df.head()"
      ],
      "execution_count": 22,
      "outputs": [
        {
          "output_type": "execute_result",
          "data": {
            "text/html": [
              "<div>\n",
              "<style scoped>\n",
              "    .dataframe tbody tr th:only-of-type {\n",
              "        vertical-align: middle;\n",
              "    }\n",
              "\n",
              "    .dataframe tbody tr th {\n",
              "        vertical-align: top;\n",
              "    }\n",
              "\n",
              "    .dataframe thead th {\n",
              "        text-align: right;\n",
              "    }\n",
              "</style>\n",
              "<table border=\"1\" class=\"dataframe\">\n",
              "  <thead>\n",
              "    <tr style=\"text-align: right;\">\n",
              "      <th></th>\n",
              "      <th>Survived</th>\n",
              "      <th>Pclass</th>\n",
              "      <th>Sex</th>\n",
              "      <th>Age</th>\n",
              "      <th>SibSp</th>\n",
              "      <th>Parch</th>\n",
              "      <th>Fare</th>\n",
              "      <th>Embarked</th>\n",
              "      <th>Title</th>\n",
              "      <th>AgeBand</th>\n",
              "    </tr>\n",
              "  </thead>\n",
              "  <tbody>\n",
              "    <tr>\n",
              "      <th>0</th>\n",
              "      <td>1</td>\n",
              "      <td>1</td>\n",
              "      <td>1</td>\n",
              "      <td>2</td>\n",
              "      <td>1</td>\n",
              "      <td>0</td>\n",
              "      <td>71.2833</td>\n",
              "      <td>C</td>\n",
              "      <td>3.0</td>\n",
              "      <td>(32.0, 48.0]</td>\n",
              "    </tr>\n",
              "    <tr>\n",
              "      <th>1</th>\n",
              "      <td>1</td>\n",
              "      <td>3</td>\n",
              "      <td>1</td>\n",
              "      <td>1</td>\n",
              "      <td>0</td>\n",
              "      <td>0</td>\n",
              "      <td>7.9250</td>\n",
              "      <td>S</td>\n",
              "      <td>2.0</td>\n",
              "      <td>(16.0, 32.0]</td>\n",
              "    </tr>\n",
              "    <tr>\n",
              "      <th>2</th>\n",
              "      <td>1</td>\n",
              "      <td>1</td>\n",
              "      <td>1</td>\n",
              "      <td>2</td>\n",
              "      <td>1</td>\n",
              "      <td>0</td>\n",
              "      <td>53.1000</td>\n",
              "      <td>S</td>\n",
              "      <td>3.0</td>\n",
              "      <td>(32.0, 48.0]</td>\n",
              "    </tr>\n",
              "    <tr>\n",
              "      <th>3</th>\n",
              "      <td>1</td>\n",
              "      <td>3</td>\n",
              "      <td>1</td>\n",
              "      <td>1</td>\n",
              "      <td>0</td>\n",
              "      <td>2</td>\n",
              "      <td>11.1333</td>\n",
              "      <td>S</td>\n",
              "      <td>3.0</td>\n",
              "      <td>(16.0, 32.0]</td>\n",
              "    </tr>\n",
              "    <tr>\n",
              "      <th>4</th>\n",
              "      <td>1</td>\n",
              "      <td>2</td>\n",
              "      <td>1</td>\n",
              "      <td>0</td>\n",
              "      <td>1</td>\n",
              "      <td>0</td>\n",
              "      <td>30.0708</td>\n",
              "      <td>C</td>\n",
              "      <td>3.0</td>\n",
              "      <td>(-0.08, 16.0]</td>\n",
              "    </tr>\n",
              "  </tbody>\n",
              "</table>\n",
              "</div>"
            ],
            "text/plain": [
              "   Survived  Pclass  Sex  Age  SibSp  Parch     Fare Embarked  Title  \\\n",
              "0         1       1    1    2      1      0  71.2833        C    3.0   \n",
              "1         1       3    1    1      0      0   7.9250        S    2.0   \n",
              "2         1       1    1    2      1      0  53.1000        S    3.0   \n",
              "3         1       3    1    1      0      2  11.1333        S    3.0   \n",
              "4         1       2    1    0      1      0  30.0708        C    3.0   \n",
              "\n",
              "         AgeBand  \n",
              "0   (32.0, 48.0]  \n",
              "1   (16.0, 32.0]  \n",
              "2   (32.0, 48.0]  \n",
              "3   (16.0, 32.0]  \n",
              "4  (-0.08, 16.0]  "
            ]
          },
          "metadata": {
            "tags": []
          },
          "execution_count": 22
        }
      ]
    },
    {
      "metadata": {
        "id": "gN68otJGerno",
        "colab_type": "text"
      },
      "cell_type": "markdown",
      "source": [
        "Adding a column 'FamilySize' denoting size of family"
      ]
    },
    {
      "metadata": {
        "id": "JJCxKqSTe0Bc",
        "colab_type": "code",
        "outputId": "fff3d8cf-cbb8-4a5a-df81-7e8b7d0acc7f",
        "colab": {
          "base_uri": "https://localhost:8080/",
          "height": 317
        }
      },
      "cell_type": "code",
      "source": [
        "for dataset in combine:\n",
        "    dataset['FamilySize'] = dataset['SibSp'] + dataset['Parch'] + 1\n",
        "\n",
        "train_df[['FamilySize', 'Survived']].groupby(['FamilySize'], as_index=False).mean().sort_values(by='Survived', ascending=False)"
      ],
      "execution_count": 23,
      "outputs": [
        {
          "output_type": "execute_result",
          "data": {
            "text/html": [
              "<div>\n",
              "<style scoped>\n",
              "    .dataframe tbody tr th:only-of-type {\n",
              "        vertical-align: middle;\n",
              "    }\n",
              "\n",
              "    .dataframe tbody tr th {\n",
              "        vertical-align: top;\n",
              "    }\n",
              "\n",
              "    .dataframe thead th {\n",
              "        text-align: right;\n",
              "    }\n",
              "</style>\n",
              "<table border=\"1\" class=\"dataframe\">\n",
              "  <thead>\n",
              "    <tr style=\"text-align: right;\">\n",
              "      <th></th>\n",
              "      <th>FamilySize</th>\n",
              "      <th>Survived</th>\n",
              "    </tr>\n",
              "  </thead>\n",
              "  <tbody>\n",
              "    <tr>\n",
              "      <th>3</th>\n",
              "      <td>4</td>\n",
              "      <td>0.724138</td>\n",
              "    </tr>\n",
              "    <tr>\n",
              "      <th>2</th>\n",
              "      <td>3</td>\n",
              "      <td>0.578431</td>\n",
              "    </tr>\n",
              "    <tr>\n",
              "      <th>1</th>\n",
              "      <td>2</td>\n",
              "      <td>0.552795</td>\n",
              "    </tr>\n",
              "    <tr>\n",
              "      <th>6</th>\n",
              "      <td>7</td>\n",
              "      <td>0.333333</td>\n",
              "    </tr>\n",
              "    <tr>\n",
              "      <th>0</th>\n",
              "      <td>1</td>\n",
              "      <td>0.303538</td>\n",
              "    </tr>\n",
              "    <tr>\n",
              "      <th>4</th>\n",
              "      <td>5</td>\n",
              "      <td>0.200000</td>\n",
              "    </tr>\n",
              "    <tr>\n",
              "      <th>5</th>\n",
              "      <td>6</td>\n",
              "      <td>0.136364</td>\n",
              "    </tr>\n",
              "    <tr>\n",
              "      <th>7</th>\n",
              "      <td>8</td>\n",
              "      <td>0.000000</td>\n",
              "    </tr>\n",
              "    <tr>\n",
              "      <th>8</th>\n",
              "      <td>11</td>\n",
              "      <td>0.000000</td>\n",
              "    </tr>\n",
              "  </tbody>\n",
              "</table>\n",
              "</div>"
            ],
            "text/plain": [
              "   FamilySize  Survived\n",
              "3           4  0.724138\n",
              "2           3  0.578431\n",
              "1           2  0.552795\n",
              "6           7  0.333333\n",
              "0           1  0.303538\n",
              "4           5  0.200000\n",
              "5           6  0.136364\n",
              "7           8  0.000000\n",
              "8          11  0.000000"
            ]
          },
          "metadata": {
            "tags": []
          },
          "execution_count": 23
        }
      ]
    },
    {
      "metadata": {
        "id": "V8qvYpqbfIuG",
        "colab_type": "text"
      },
      "cell_type": "markdown",
      "source": [
        "we can analize the probability of survived if the person is alone through a column 'IsAlone' "
      ]
    },
    {
      "metadata": {
        "id": "-_5JE_dqfMtv",
        "colab_type": "code",
        "outputId": "4f947d17-a932-4b46-ebcd-d33efa154695",
        "colab": {
          "base_uri": "https://localhost:8080/",
          "height": 107
        }
      },
      "cell_type": "code",
      "source": [
        "for dataset in combine:\n",
        "    dataset['IsAlone'] = 0\n",
        "    dataset.loc[dataset['FamilySize'] == 1, 'IsAlone'] = 1\n",
        "\n",
        "train_df[['IsAlone', 'Survived']].groupby(['IsAlone'], as_index=False).mean()\n"
      ],
      "execution_count": 24,
      "outputs": [
        {
          "output_type": "execute_result",
          "data": {
            "text/html": [
              "<div>\n",
              "<style scoped>\n",
              "    .dataframe tbody tr th:only-of-type {\n",
              "        vertical-align: middle;\n",
              "    }\n",
              "\n",
              "    .dataframe tbody tr th {\n",
              "        vertical-align: top;\n",
              "    }\n",
              "\n",
              "    .dataframe thead th {\n",
              "        text-align: right;\n",
              "    }\n",
              "</style>\n",
              "<table border=\"1\" class=\"dataframe\">\n",
              "  <thead>\n",
              "    <tr style=\"text-align: right;\">\n",
              "      <th></th>\n",
              "      <th>IsAlone</th>\n",
              "      <th>Survived</th>\n",
              "    </tr>\n",
              "  </thead>\n",
              "  <tbody>\n",
              "    <tr>\n",
              "      <th>0</th>\n",
              "      <td>0</td>\n",
              "      <td>0.505650</td>\n",
              "    </tr>\n",
              "    <tr>\n",
              "      <th>1</th>\n",
              "      <td>1</td>\n",
              "      <td>0.303538</td>\n",
              "    </tr>\n",
              "  </tbody>\n",
              "</table>\n",
              "</div>"
            ],
            "text/plain": [
              "   IsAlone  Survived\n",
              "0        0  0.505650\n",
              "1        1  0.303538"
            ]
          },
          "metadata": {
            "tags": []
          },
          "execution_count": 24
        }
      ]
    },
    {
      "metadata": {
        "id": "fbwblB9Efj4W",
        "colab_type": "text"
      },
      "cell_type": "markdown",
      "source": [
        "Droping 'Parch' , 'SibSp', 'FamilySize'  and 'AgeBand' features as they are not exactly needed for training."
      ]
    },
    {
      "metadata": {
        "id": "2RPiKSj-flZX",
        "colab_type": "code",
        "outputId": "783cec8f-f48a-4b64-8b46-893d819eb81a",
        "colab": {
          "base_uri": "https://localhost:8080/",
          "height": 197
        }
      },
      "cell_type": "code",
      "source": [
        "train_df = train_df.drop(['Parch', 'SibSp', 'FamilySize','AgeBand'], axis=1)\n",
        "test_df = test_df.drop(['Parch', 'SibSp', 'FamilySize'], axis=1)\n",
        "combine = [train_df, test_df]\n",
        "train_df.head()"
      ],
      "execution_count": 25,
      "outputs": [
        {
          "output_type": "execute_result",
          "data": {
            "text/html": [
              "<div>\n",
              "<style scoped>\n",
              "    .dataframe tbody tr th:only-of-type {\n",
              "        vertical-align: middle;\n",
              "    }\n",
              "\n",
              "    .dataframe tbody tr th {\n",
              "        vertical-align: top;\n",
              "    }\n",
              "\n",
              "    .dataframe thead th {\n",
              "        text-align: right;\n",
              "    }\n",
              "</style>\n",
              "<table border=\"1\" class=\"dataframe\">\n",
              "  <thead>\n",
              "    <tr style=\"text-align: right;\">\n",
              "      <th></th>\n",
              "      <th>Survived</th>\n",
              "      <th>Pclass</th>\n",
              "      <th>Sex</th>\n",
              "      <th>Age</th>\n",
              "      <th>Fare</th>\n",
              "      <th>Embarked</th>\n",
              "      <th>Title</th>\n",
              "      <th>IsAlone</th>\n",
              "    </tr>\n",
              "  </thead>\n",
              "  <tbody>\n",
              "    <tr>\n",
              "      <th>0</th>\n",
              "      <td>1</td>\n",
              "      <td>1</td>\n",
              "      <td>1</td>\n",
              "      <td>2</td>\n",
              "      <td>71.2833</td>\n",
              "      <td>C</td>\n",
              "      <td>3.0</td>\n",
              "      <td>0</td>\n",
              "    </tr>\n",
              "    <tr>\n",
              "      <th>1</th>\n",
              "      <td>1</td>\n",
              "      <td>3</td>\n",
              "      <td>1</td>\n",
              "      <td>1</td>\n",
              "      <td>7.9250</td>\n",
              "      <td>S</td>\n",
              "      <td>2.0</td>\n",
              "      <td>1</td>\n",
              "    </tr>\n",
              "    <tr>\n",
              "      <th>2</th>\n",
              "      <td>1</td>\n",
              "      <td>1</td>\n",
              "      <td>1</td>\n",
              "      <td>2</td>\n",
              "      <td>53.1000</td>\n",
              "      <td>S</td>\n",
              "      <td>3.0</td>\n",
              "      <td>0</td>\n",
              "    </tr>\n",
              "    <tr>\n",
              "      <th>3</th>\n",
              "      <td>1</td>\n",
              "      <td>3</td>\n",
              "      <td>1</td>\n",
              "      <td>1</td>\n",
              "      <td>11.1333</td>\n",
              "      <td>S</td>\n",
              "      <td>3.0</td>\n",
              "      <td>0</td>\n",
              "    </tr>\n",
              "    <tr>\n",
              "      <th>4</th>\n",
              "      <td>1</td>\n",
              "      <td>2</td>\n",
              "      <td>1</td>\n",
              "      <td>0</td>\n",
              "      <td>30.0708</td>\n",
              "      <td>C</td>\n",
              "      <td>3.0</td>\n",
              "      <td>0</td>\n",
              "    </tr>\n",
              "  </tbody>\n",
              "</table>\n",
              "</div>"
            ],
            "text/plain": [
              "   Survived  Pclass  Sex  Age     Fare Embarked  Title  IsAlone\n",
              "0         1       1    1    2  71.2833        C    3.0        0\n",
              "1         1       3    1    1   7.9250        S    2.0        1\n",
              "2         1       1    1    2  53.1000        S    3.0        0\n",
              "3         1       3    1    1  11.1333        S    3.0        0\n",
              "4         1       2    1    0  30.0708        C    3.0        0"
            ]
          },
          "metadata": {
            "tags": []
          },
          "execution_count": 25
        }
      ]
    },
    {
      "metadata": {
        "id": "eOES5GhUg1lt",
        "colab_type": "text"
      },
      "cell_type": "markdown",
      "source": [
        "Creating a new column through combining Age and Pclass."
      ]
    },
    {
      "metadata": {
        "id": "94goenjPgucU",
        "colab_type": "code",
        "colab": {}
      },
      "cell_type": "code",
      "source": [
        "for dataset in combine:\n",
        "    dataset['Age*Class'] = dataset.Age * dataset.Pclass"
      ],
      "execution_count": 0,
      "outputs": []
    },
    {
      "metadata": {
        "id": "Tax82RDNhHjr",
        "colab_type": "text"
      },
      "cell_type": "markdown",
      "source": [
        "check for frequent Embarked and replace it for null values."
      ]
    },
    {
      "metadata": {
        "id": "6ZfwSxcZg8yL",
        "colab_type": "code",
        "outputId": "538b6789-4866-42d5-cc28-58fc9709ec84",
        "colab": {
          "base_uri": "https://localhost:8080/",
          "height": 34
        }
      },
      "cell_type": "code",
      "source": [
        "freq_port = train_df.Embarked.dropna().mode()[0]\n",
        "freq_port"
      ],
      "execution_count": 27,
      "outputs": [
        {
          "output_type": "execute_result",
          "data": {
            "text/plain": [
              "'S'"
            ]
          },
          "metadata": {
            "tags": []
          },
          "execution_count": 27
        }
      ]
    },
    {
      "metadata": {
        "id": "AFFcwGDOhPxo",
        "colab_type": "code",
        "outputId": "a64b4739-ccde-424d-f167-e8f4f17b1dc4",
        "colab": {
          "base_uri": "https://localhost:8080/",
          "height": 197
        }
      },
      "cell_type": "code",
      "source": [
        "for dataset in combine:\n",
        "    dataset['Embarked'] = dataset['Embarked'].fillna(freq_port)\n",
        "    dataset['Embarked'] = dataset['Embarked'].map( {'S': 2, 'C': 0, 'Q': 1} ).astype(int)\n",
        "\n",
        "train_df.head()"
      ],
      "execution_count": 28,
      "outputs": [
        {
          "output_type": "execute_result",
          "data": {
            "text/html": [
              "<div>\n",
              "<style scoped>\n",
              "    .dataframe tbody tr th:only-of-type {\n",
              "        vertical-align: middle;\n",
              "    }\n",
              "\n",
              "    .dataframe tbody tr th {\n",
              "        vertical-align: top;\n",
              "    }\n",
              "\n",
              "    .dataframe thead th {\n",
              "        text-align: right;\n",
              "    }\n",
              "</style>\n",
              "<table border=\"1\" class=\"dataframe\">\n",
              "  <thead>\n",
              "    <tr style=\"text-align: right;\">\n",
              "      <th></th>\n",
              "      <th>Survived</th>\n",
              "      <th>Pclass</th>\n",
              "      <th>Sex</th>\n",
              "      <th>Age</th>\n",
              "      <th>Fare</th>\n",
              "      <th>Embarked</th>\n",
              "      <th>Title</th>\n",
              "      <th>IsAlone</th>\n",
              "      <th>Age*Class</th>\n",
              "    </tr>\n",
              "  </thead>\n",
              "  <tbody>\n",
              "    <tr>\n",
              "      <th>0</th>\n",
              "      <td>1</td>\n",
              "      <td>1</td>\n",
              "      <td>1</td>\n",
              "      <td>2</td>\n",
              "      <td>71.2833</td>\n",
              "      <td>0</td>\n",
              "      <td>3.0</td>\n",
              "      <td>0</td>\n",
              "      <td>2</td>\n",
              "    </tr>\n",
              "    <tr>\n",
              "      <th>1</th>\n",
              "      <td>1</td>\n",
              "      <td>3</td>\n",
              "      <td>1</td>\n",
              "      <td>1</td>\n",
              "      <td>7.9250</td>\n",
              "      <td>2</td>\n",
              "      <td>2.0</td>\n",
              "      <td>1</td>\n",
              "      <td>3</td>\n",
              "    </tr>\n",
              "    <tr>\n",
              "      <th>2</th>\n",
              "      <td>1</td>\n",
              "      <td>1</td>\n",
              "      <td>1</td>\n",
              "      <td>2</td>\n",
              "      <td>53.1000</td>\n",
              "      <td>2</td>\n",
              "      <td>3.0</td>\n",
              "      <td>0</td>\n",
              "      <td>2</td>\n",
              "    </tr>\n",
              "    <tr>\n",
              "      <th>3</th>\n",
              "      <td>1</td>\n",
              "      <td>3</td>\n",
              "      <td>1</td>\n",
              "      <td>1</td>\n",
              "      <td>11.1333</td>\n",
              "      <td>2</td>\n",
              "      <td>3.0</td>\n",
              "      <td>0</td>\n",
              "      <td>3</td>\n",
              "    </tr>\n",
              "    <tr>\n",
              "      <th>4</th>\n",
              "      <td>1</td>\n",
              "      <td>2</td>\n",
              "      <td>1</td>\n",
              "      <td>0</td>\n",
              "      <td>30.0708</td>\n",
              "      <td>0</td>\n",
              "      <td>3.0</td>\n",
              "      <td>0</td>\n",
              "      <td>0</td>\n",
              "    </tr>\n",
              "  </tbody>\n",
              "</table>\n",
              "</div>"
            ],
            "text/plain": [
              "   Survived  Pclass  Sex  Age     Fare  Embarked  Title  IsAlone  Age*Class\n",
              "0         1       1    1    2  71.2833         0    3.0        0          2\n",
              "1         1       3    1    1   7.9250         2    2.0        1          3\n",
              "2         1       1    1    2  53.1000         2    3.0        0          2\n",
              "3         1       3    1    1  11.1333         2    3.0        0          3\n",
              "4         1       2    1    0  30.0708         0    3.0        0          0"
            ]
          },
          "metadata": {
            "tags": []
          },
          "execution_count": 28
        }
      ]
    },
    {
      "metadata": {
        "id": "1X4z2U7_hkM7",
        "colab_type": "text"
      },
      "cell_type": "markdown",
      "source": [
        "Convert the fare values to single digit through median."
      ]
    },
    {
      "metadata": {
        "id": "XPSGt-5ThWqC",
        "colab_type": "code",
        "outputId": "5c13f84a-d2cb-45ba-f958-46b67b53937b",
        "colab": {
          "base_uri": "https://localhost:8080/",
          "height": 197
        }
      },
      "cell_type": "code",
      "source": [
        "test_df['Fare'].fillna(test_df['Fare'].dropna().median(), inplace=True)\n",
        "test_df.head()"
      ],
      "execution_count": 29,
      "outputs": [
        {
          "output_type": "execute_result",
          "data": {
            "text/html": [
              "<div>\n",
              "<style scoped>\n",
              "    .dataframe tbody tr th:only-of-type {\n",
              "        vertical-align: middle;\n",
              "    }\n",
              "\n",
              "    .dataframe tbody tr th {\n",
              "        vertical-align: top;\n",
              "    }\n",
              "\n",
              "    .dataframe thead th {\n",
              "        text-align: right;\n",
              "    }\n",
              "</style>\n",
              "<table border=\"1\" class=\"dataframe\">\n",
              "  <thead>\n",
              "    <tr style=\"text-align: right;\">\n",
              "      <th></th>\n",
              "      <th>PassengerId</th>\n",
              "      <th>Pclass</th>\n",
              "      <th>Sex</th>\n",
              "      <th>Age</th>\n",
              "      <th>Fare</th>\n",
              "      <th>Embarked</th>\n",
              "      <th>Title</th>\n",
              "      <th>IsAlone</th>\n",
              "      <th>Age*Class</th>\n",
              "    </tr>\n",
              "  </thead>\n",
              "  <tbody>\n",
              "    <tr>\n",
              "      <th>0</th>\n",
              "      <td>892</td>\n",
              "      <td>3</td>\n",
              "      <td>0</td>\n",
              "      <td>2</td>\n",
              "      <td>7.8292</td>\n",
              "      <td>1</td>\n",
              "      <td>1.0</td>\n",
              "      <td>1</td>\n",
              "      <td>6</td>\n",
              "    </tr>\n",
              "    <tr>\n",
              "      <th>1</th>\n",
              "      <td>893</td>\n",
              "      <td>3</td>\n",
              "      <td>1</td>\n",
              "      <td>2</td>\n",
              "      <td>7.0000</td>\n",
              "      <td>2</td>\n",
              "      <td>3.0</td>\n",
              "      <td>0</td>\n",
              "      <td>6</td>\n",
              "    </tr>\n",
              "    <tr>\n",
              "      <th>2</th>\n",
              "      <td>894</td>\n",
              "      <td>2</td>\n",
              "      <td>0</td>\n",
              "      <td>3</td>\n",
              "      <td>9.6875</td>\n",
              "      <td>1</td>\n",
              "      <td>1.0</td>\n",
              "      <td>1</td>\n",
              "      <td>6</td>\n",
              "    </tr>\n",
              "    <tr>\n",
              "      <th>3</th>\n",
              "      <td>895</td>\n",
              "      <td>3</td>\n",
              "      <td>0</td>\n",
              "      <td>1</td>\n",
              "      <td>8.6625</td>\n",
              "      <td>2</td>\n",
              "      <td>1.0</td>\n",
              "      <td>1</td>\n",
              "      <td>3</td>\n",
              "    </tr>\n",
              "    <tr>\n",
              "      <th>4</th>\n",
              "      <td>896</td>\n",
              "      <td>3</td>\n",
              "      <td>1</td>\n",
              "      <td>1</td>\n",
              "      <td>12.2875</td>\n",
              "      <td>2</td>\n",
              "      <td>3.0</td>\n",
              "      <td>0</td>\n",
              "      <td>3</td>\n",
              "    </tr>\n",
              "  </tbody>\n",
              "</table>\n",
              "</div>"
            ],
            "text/plain": [
              "   PassengerId  Pclass  Sex  Age     Fare  Embarked  Title  IsAlone  Age*Class\n",
              "0          892       3    0    2   7.8292         1    1.0        1          6\n",
              "1          893       3    1    2   7.0000         2    3.0        0          6\n",
              "2          894       2    0    3   9.6875         1    1.0        1          6\n",
              "3          895       3    0    1   8.6625         2    1.0        1          3\n",
              "4          896       3    1    1  12.2875         2    3.0        0          3"
            ]
          },
          "metadata": {
            "tags": []
          },
          "execution_count": 29
        }
      ]
    },
    {
      "metadata": {
        "id": "E3v9Gekvh3y0",
        "colab_type": "text"
      },
      "cell_type": "markdown",
      "source": [
        "Replace the values of \"FareBand\" with 0,1,2,3"
      ]
    },
    {
      "metadata": {
        "id": "Fg93AmsxhsEA",
        "colab_type": "code",
        "outputId": "c18663a7-4242-4e70-942c-8316692c0e3d",
        "colab": {
          "base_uri": "https://localhost:8080/",
          "height": 167
        }
      },
      "cell_type": "code",
      "source": [
        "train_df['FareBand'] = pd.qcut(train_df['Fare'], 4)\n",
        "train_df[['FareBand', 'Survived']].groupby(['FareBand'], as_index=False).mean().sort_values(by='FareBand', ascending=True)"
      ],
      "execution_count": 30,
      "outputs": [
        {
          "output_type": "execute_result",
          "data": {
            "text/html": [
              "<div>\n",
              "<style scoped>\n",
              "    .dataframe tbody tr th:only-of-type {\n",
              "        vertical-align: middle;\n",
              "    }\n",
              "\n",
              "    .dataframe tbody tr th {\n",
              "        vertical-align: top;\n",
              "    }\n",
              "\n",
              "    .dataframe thead th {\n",
              "        text-align: right;\n",
              "    }\n",
              "</style>\n",
              "<table border=\"1\" class=\"dataframe\">\n",
              "  <thead>\n",
              "    <tr style=\"text-align: right;\">\n",
              "      <th></th>\n",
              "      <th>FareBand</th>\n",
              "      <th>Survived</th>\n",
              "    </tr>\n",
              "  </thead>\n",
              "  <tbody>\n",
              "    <tr>\n",
              "      <th>0</th>\n",
              "      <td>(-0.001, 7.91]</td>\n",
              "      <td>0.197309</td>\n",
              "    </tr>\n",
              "    <tr>\n",
              "      <th>1</th>\n",
              "      <td>(7.91, 14.454]</td>\n",
              "      <td>0.303571</td>\n",
              "    </tr>\n",
              "    <tr>\n",
              "      <th>2</th>\n",
              "      <td>(14.454, 31.0]</td>\n",
              "      <td>0.454955</td>\n",
              "    </tr>\n",
              "    <tr>\n",
              "      <th>3</th>\n",
              "      <td>(31.0, 512.329]</td>\n",
              "      <td>0.581081</td>\n",
              "    </tr>\n",
              "  </tbody>\n",
              "</table>\n",
              "</div>"
            ],
            "text/plain": [
              "          FareBand  Survived\n",
              "0   (-0.001, 7.91]  0.197309\n",
              "1   (7.91, 14.454]  0.303571\n",
              "2   (14.454, 31.0]  0.454955\n",
              "3  (31.0, 512.329]  0.581081"
            ]
          },
          "metadata": {
            "tags": []
          },
          "execution_count": 30
        }
      ]
    },
    {
      "metadata": {
        "id": "FhsE75cnhwBh",
        "colab_type": "code",
        "outputId": "5738b5ed-95ab-4cb7-adf4-963471b3bf53",
        "colab": {
          "base_uri": "https://localhost:8080/",
          "height": 347
        }
      },
      "cell_type": "code",
      "source": [
        "for dataset in combine:    \n",
        "    dataset.loc[ dataset['Fare'] <= 7.91, 'Fare'] = 0\n",
        "    dataset.loc[(dataset['Fare'] > 7.91) & (dataset['Fare'] <= 14.454), 'Fare'] = 1\n",
        "    dataset.loc[(dataset['Fare'] > 14.454) & (dataset['Fare'] <= 31.0), 'Fare'] = 2\n",
        "    dataset.loc[(dataset['Fare'] > 31.0) & (dataset['Fare'] <= 512.329), 'Fare'] = 3\n",
        "    dataset['Fare'] = dataset['Fare'].astype(int)\n",
        "    \n",
        "train_df = train_df.drop(['FareBand'], axis=1)\n",
        "combine = [train_df, test_df]\n",
        "train_df.head(10)"
      ],
      "execution_count": 31,
      "outputs": [
        {
          "output_type": "execute_result",
          "data": {
            "text/html": [
              "<div>\n",
              "<style scoped>\n",
              "    .dataframe tbody tr th:only-of-type {\n",
              "        vertical-align: middle;\n",
              "    }\n",
              "\n",
              "    .dataframe tbody tr th {\n",
              "        vertical-align: top;\n",
              "    }\n",
              "\n",
              "    .dataframe thead th {\n",
              "        text-align: right;\n",
              "    }\n",
              "</style>\n",
              "<table border=\"1\" class=\"dataframe\">\n",
              "  <thead>\n",
              "    <tr style=\"text-align: right;\">\n",
              "      <th></th>\n",
              "      <th>Survived</th>\n",
              "      <th>Pclass</th>\n",
              "      <th>Sex</th>\n",
              "      <th>Age</th>\n",
              "      <th>Fare</th>\n",
              "      <th>Embarked</th>\n",
              "      <th>Title</th>\n",
              "      <th>IsAlone</th>\n",
              "      <th>Age*Class</th>\n",
              "    </tr>\n",
              "  </thead>\n",
              "  <tbody>\n",
              "    <tr>\n",
              "      <th>0</th>\n",
              "      <td>1</td>\n",
              "      <td>1</td>\n",
              "      <td>1</td>\n",
              "      <td>2</td>\n",
              "      <td>3</td>\n",
              "      <td>0</td>\n",
              "      <td>3.0</td>\n",
              "      <td>0</td>\n",
              "      <td>2</td>\n",
              "    </tr>\n",
              "    <tr>\n",
              "      <th>1</th>\n",
              "      <td>1</td>\n",
              "      <td>3</td>\n",
              "      <td>1</td>\n",
              "      <td>1</td>\n",
              "      <td>1</td>\n",
              "      <td>2</td>\n",
              "      <td>2.0</td>\n",
              "      <td>1</td>\n",
              "      <td>3</td>\n",
              "    </tr>\n",
              "    <tr>\n",
              "      <th>2</th>\n",
              "      <td>1</td>\n",
              "      <td>1</td>\n",
              "      <td>1</td>\n",
              "      <td>2</td>\n",
              "      <td>3</td>\n",
              "      <td>2</td>\n",
              "      <td>3.0</td>\n",
              "      <td>0</td>\n",
              "      <td>2</td>\n",
              "    </tr>\n",
              "    <tr>\n",
              "      <th>3</th>\n",
              "      <td>1</td>\n",
              "      <td>3</td>\n",
              "      <td>1</td>\n",
              "      <td>1</td>\n",
              "      <td>1</td>\n",
              "      <td>2</td>\n",
              "      <td>3.0</td>\n",
              "      <td>0</td>\n",
              "      <td>3</td>\n",
              "    </tr>\n",
              "    <tr>\n",
              "      <th>4</th>\n",
              "      <td>1</td>\n",
              "      <td>2</td>\n",
              "      <td>1</td>\n",
              "      <td>0</td>\n",
              "      <td>2</td>\n",
              "      <td>0</td>\n",
              "      <td>3.0</td>\n",
              "      <td>0</td>\n",
              "      <td>0</td>\n",
              "    </tr>\n",
              "    <tr>\n",
              "      <th>5</th>\n",
              "      <td>1</td>\n",
              "      <td>3</td>\n",
              "      <td>1</td>\n",
              "      <td>0</td>\n",
              "      <td>2</td>\n",
              "      <td>2</td>\n",
              "      <td>2.0</td>\n",
              "      <td>0</td>\n",
              "      <td>0</td>\n",
              "    </tr>\n",
              "    <tr>\n",
              "      <th>6</th>\n",
              "      <td>1</td>\n",
              "      <td>1</td>\n",
              "      <td>1</td>\n",
              "      <td>3</td>\n",
              "      <td>2</td>\n",
              "      <td>2</td>\n",
              "      <td>2.0</td>\n",
              "      <td>1</td>\n",
              "      <td>3</td>\n",
              "    </tr>\n",
              "    <tr>\n",
              "      <th>7</th>\n",
              "      <td>1</td>\n",
              "      <td>2</td>\n",
              "      <td>1</td>\n",
              "      <td>3</td>\n",
              "      <td>2</td>\n",
              "      <td>2</td>\n",
              "      <td>3.0</td>\n",
              "      <td>1</td>\n",
              "      <td>6</td>\n",
              "    </tr>\n",
              "    <tr>\n",
              "      <th>8</th>\n",
              "      <td>1</td>\n",
              "      <td>3</td>\n",
              "      <td>1</td>\n",
              "      <td>1</td>\n",
              "      <td>0</td>\n",
              "      <td>0</td>\n",
              "      <td>3.0</td>\n",
              "      <td>1</td>\n",
              "      <td>3</td>\n",
              "    </tr>\n",
              "    <tr>\n",
              "      <th>9</th>\n",
              "      <td>1</td>\n",
              "      <td>3</td>\n",
              "      <td>1</td>\n",
              "      <td>0</td>\n",
              "      <td>1</td>\n",
              "      <td>1</td>\n",
              "      <td>2.0</td>\n",
              "      <td>1</td>\n",
              "      <td>0</td>\n",
              "    </tr>\n",
              "  </tbody>\n",
              "</table>\n",
              "</div>"
            ],
            "text/plain": [
              "   Survived  Pclass  Sex  Age  Fare  Embarked  Title  IsAlone  Age*Class\n",
              "0         1       1    1    2     3         0    3.0        0          2\n",
              "1         1       3    1    1     1         2    2.0        1          3\n",
              "2         1       1    1    2     3         2    3.0        0          2\n",
              "3         1       3    1    1     1         2    3.0        0          3\n",
              "4         1       2    1    0     2         0    3.0        0          0\n",
              "5         1       3    1    0     2         2    2.0        0          0\n",
              "6         1       1    1    3     2         2    2.0        1          3\n",
              "7         1       2    1    3     2         2    3.0        1          6\n",
              "8         1       3    1    1     0         0    3.0        1          3\n",
              "9         1       3    1    0     1         1    2.0        1          0"
            ]
          },
          "metadata": {
            "tags": []
          },
          "execution_count": 31
        }
      ]
    },
    {
      "metadata": {
        "id": "AZAh6AzIiK_x",
        "colab_type": "text"
      },
      "cell_type": "markdown",
      "source": [
        "Droping 'Survived' and 'PassengerId' features as they are not exactly needed for training and testing"
      ]
    },
    {
      "metadata": {
        "id": "2rC8xYw-iJ5Z",
        "colab_type": "code",
        "outputId": "a72a735d-7913-461e-f399-78aababce296",
        "colab": {
          "base_uri": "https://localhost:8080/",
          "height": 34
        }
      },
      "cell_type": "code",
      "source": [
        "X_train = train_df.drop(\"Survived\", axis=1)\n",
        "Y_train = train_df[\"Survived\"]\n",
        "X_test  = test_df.drop(\"PassengerId\", axis=1).copy()\n",
        "X_train.shape, Y_train.shape, X_test.shape"
      ],
      "execution_count": 32,
      "outputs": [
        {
          "output_type": "execute_result",
          "data": {
            "text/plain": [
              "((891, 8), (891,), (418, 8))"
            ]
          },
          "metadata": {
            "tags": []
          },
          "execution_count": 32
        }
      ]
    },
    {
      "metadata": {
        "id": "Kr1abYL_irsP",
        "colab_type": "code",
        "outputId": "ac1621df-a63a-4579-8ab3-a17ee94cd357",
        "colab": {
          "base_uri": "https://localhost:8080/",
          "height": 34
        }
      },
      "cell_type": "code",
      "source": [
        "print(X_train.columns.values)"
      ],
      "execution_count": 33,
      "outputs": [
        {
          "output_type": "stream",
          "text": [
            "['Pclass' 'Sex' 'Age' 'Fare' 'Embarked' 'Title' 'IsAlone' 'Age*Class']\n"
          ],
          "name": "stdout"
        }
      ]
    },
    {
      "metadata": {
        "id": "osayrkpevUNA",
        "colab_type": "code",
        "outputId": "61bdfa31-989f-41aa-c72d-c3d8956da480",
        "colab": {
          "base_uri": "https://localhost:8080/",
          "height": 178
        }
      },
      "cell_type": "code",
      "source": [
        "from sklearn.preprocessing import StandardScaler\n",
        "sc = StandardScaler()\n",
        "X_train = sc.fit_transform(X_train)\n",
        "X_test = sc.fit_transform(X_test)"
      ],
      "execution_count": 34,
      "outputs": [
        {
          "output_type": "stream",
          "text": [
            "/usr/local/lib/python3.6/dist-packages/sklearn/preprocessing/data.py:645: DataConversionWarning: Data with input dtype int64, float64 were all converted to float64 by StandardScaler.\n",
            "  return self.partial_fit(X, y)\n",
            "/usr/local/lib/python3.6/dist-packages/sklearn/base.py:464: DataConversionWarning: Data with input dtype int64, float64 were all converted to float64 by StandardScaler.\n",
            "  return self.fit(X, **fit_params).transform(X)\n",
            "/usr/local/lib/python3.6/dist-packages/sklearn/preprocessing/data.py:645: DataConversionWarning: Data with input dtype int64, float64 were all converted to float64 by StandardScaler.\n",
            "  return self.partial_fit(X, y)\n",
            "/usr/local/lib/python3.6/dist-packages/sklearn/base.py:464: DataConversionWarning: Data with input dtype int64, float64 were all converted to float64 by StandardScaler.\n",
            "  return self.fit(X, **fit_params).transform(X)\n"
          ],
          "name": "stderr"
        }
      ]
    },
    {
      "metadata": {
        "id": "i_MaiBGNicU8",
        "colab_type": "text"
      },
      "cell_type": "markdown",
      "source": [
        "define model"
      ]
    },
    {
      "metadata": {
        "id": "5gHO3NX8pX_M",
        "colab_type": "code",
        "colab": {
          "base_uri": "https://localhost:8080/",
          "height": 90
        },
        "outputId": "fe0c57d0-d23b-49fc-8a1a-c0a708e99c97"
      },
      "cell_type": "code",
      "source": [
        "model = tf.keras.models.Sequential([\n",
        "    tf.keras.layers.Dense(7, activation='relu',input_dim = 8),\n",
        "    tf.keras.layers.Dense(3, activation='relu'),\n",
        "    tf.keras.layers.Dense(1, activation='sigmoid')\n",
        "])\n",
        "\n",
        "model.compile(loss='binary_crossentropy',\n",
        "              optimizer='adam',\n",
        "              metrics=['acc'])"
      ],
      "execution_count": 35,
      "outputs": [
        {
          "output_type": "stream",
          "text": [
            "WARNING:tensorflow:From /usr/local/lib/python3.6/dist-packages/tensorflow/python/ops/resource_variable_ops.py:435: colocate_with (from tensorflow.python.framework.ops) is deprecated and will be removed in a future version.\n",
            "Instructions for updating:\n",
            "Colocations handled automatically by placer.\n"
          ],
          "name": "stdout"
        }
      ]
    },
    {
      "metadata": {
        "id": "5FXeJ7RmtjBe",
        "colab_type": "code",
        "outputId": "3bb853ca-bac0-45c9-8ee2-b6a30201e3bc",
        "colab": {
          "base_uri": "https://localhost:8080/",
          "height": 247
        }
      },
      "cell_type": "code",
      "source": [
        "model.summary()"
      ],
      "execution_count": 36,
      "outputs": [
        {
          "output_type": "stream",
          "text": [
            "_________________________________________________________________\n",
            "Layer (type)                 Output Shape              Param #   \n",
            "=================================================================\n",
            "dense (Dense)                (None, 7)                 63        \n",
            "_________________________________________________________________\n",
            "dense_1 (Dense)              (None, 3)                 24        \n",
            "_________________________________________________________________\n",
            "dense_2 (Dense)              (None, 1)                 4         \n",
            "=================================================================\n",
            "Total params: 91\n",
            "Trainable params: 91\n",
            "Non-trainable params: 0\n",
            "_________________________________________________________________\n"
          ],
          "name": "stdout"
        }
      ]
    },
    {
      "metadata": {
        "id": "fpfgLu7jqxlK",
        "colab_type": "code",
        "outputId": "5996ec79-d12e-4d69-a765-be69ed5f6c0f",
        "colab": {
          "base_uri": "https://localhost:8080/",
          "height": 3663
        }
      },
      "cell_type": "code",
      "source": [
        "model.fit(X_train, Y_train,epochs = 100)"
      ],
      "execution_count": 37,
      "outputs": [
        {
          "output_type": "stream",
          "text": [
            "WARNING:tensorflow:From /usr/local/lib/python3.6/dist-packages/tensorflow/python/ops/math_ops.py:3066: to_int32 (from tensorflow.python.ops.math_ops) is deprecated and will be removed in a future version.\n",
            "Instructions for updating:\n",
            "Use tf.cast instead.\n",
            "Epoch 1/100\n",
            "891/891 [==============================] - 0s 217us/sample - loss: 0.7891 - acc: 0.4097\n",
            "Epoch 2/100\n",
            "891/891 [==============================] - 0s 41us/sample - loss: 0.7253 - acc: 0.4792\n",
            "Epoch 3/100\n",
            "891/891 [==============================] - 0s 43us/sample - loss: 0.6841 - acc: 0.5937\n",
            "Epoch 4/100\n",
            "891/891 [==============================] - 0s 42us/sample - loss: 0.6600 - acc: 0.6869\n",
            "Epoch 5/100\n",
            "891/891 [==============================] - 0s 39us/sample - loss: 0.6423 - acc: 0.7116\n",
            "Epoch 6/100\n",
            "891/891 [==============================] - 0s 40us/sample - loss: 0.6276 - acc: 0.7486\n",
            "Epoch 7/100\n",
            "891/891 [==============================] - 0s 42us/sample - loss: 0.6144 - acc: 0.7587\n",
            "Epoch 8/100\n",
            "891/891 [==============================] - 0s 49us/sample - loss: 0.6012 - acc: 0.7733\n",
            "Epoch 9/100\n",
            "891/891 [==============================] - 0s 43us/sample - loss: 0.5856 - acc: 0.7722\n",
            "Epoch 10/100\n",
            "891/891 [==============================] - 0s 39us/sample - loss: 0.5582 - acc: 0.7823\n",
            "Epoch 11/100\n",
            "891/891 [==============================] - 0s 42us/sample - loss: 0.5293 - acc: 0.7935\n",
            "Epoch 12/100\n",
            "891/891 [==============================] - 0s 38us/sample - loss: 0.5056 - acc: 0.7980\n",
            "Epoch 13/100\n",
            "891/891 [==============================] - 0s 42us/sample - loss: 0.4869 - acc: 0.7924\n",
            "Epoch 14/100\n",
            "891/891 [==============================] - 0s 42us/sample - loss: 0.4721 - acc: 0.7935\n",
            "Epoch 15/100\n",
            "891/891 [==============================] - 0s 46us/sample - loss: 0.4611 - acc: 0.7946\n",
            "Epoch 16/100\n",
            "891/891 [==============================] - 0s 40us/sample - loss: 0.4530 - acc: 0.7957\n",
            "Epoch 17/100\n",
            "891/891 [==============================] - 0s 41us/sample - loss: 0.4462 - acc: 0.7969\n",
            "Epoch 18/100\n",
            "891/891 [==============================] - 0s 39us/sample - loss: 0.4414 - acc: 0.8036\n",
            "Epoch 19/100\n",
            "891/891 [==============================] - 0s 49us/sample - loss: 0.4374 - acc: 0.8036\n",
            "Epoch 20/100\n",
            "891/891 [==============================] - 0s 46us/sample - loss: 0.4341 - acc: 0.8092\n",
            "Epoch 21/100\n",
            "891/891 [==============================] - 0s 46us/sample - loss: 0.4316 - acc: 0.8081\n",
            "Epoch 22/100\n",
            "891/891 [==============================] - 0s 45us/sample - loss: 0.4298 - acc: 0.8047\n",
            "Epoch 23/100\n",
            "891/891 [==============================] - 0s 46us/sample - loss: 0.4280 - acc: 0.8081\n",
            "Epoch 24/100\n",
            "891/891 [==============================] - 0s 46us/sample - loss: 0.4265 - acc: 0.8126\n",
            "Epoch 25/100\n",
            "891/891 [==============================] - 0s 47us/sample - loss: 0.4249 - acc: 0.8070\n",
            "Epoch 26/100\n",
            "891/891 [==============================] - 0s 47us/sample - loss: 0.4241 - acc: 0.8148\n",
            "Epoch 27/100\n",
            "891/891 [==============================] - 0s 47us/sample - loss: 0.4224 - acc: 0.8126\n",
            "Epoch 28/100\n",
            "891/891 [==============================] - 0s 45us/sample - loss: 0.4220 - acc: 0.8126\n",
            "Epoch 29/100\n",
            "891/891 [==============================] - 0s 46us/sample - loss: 0.4211 - acc: 0.8114\n",
            "Epoch 30/100\n",
            "891/891 [==============================] - 0s 48us/sample - loss: 0.4198 - acc: 0.8126\n",
            "Epoch 31/100\n",
            "891/891 [==============================] - 0s 49us/sample - loss: 0.4192 - acc: 0.8114\n",
            "Epoch 32/100\n",
            "891/891 [==============================] - 0s 49us/sample - loss: 0.4188 - acc: 0.8114\n",
            "Epoch 33/100\n",
            "891/891 [==============================] - 0s 53us/sample - loss: 0.4184 - acc: 0.8103\n",
            "Epoch 34/100\n",
            "891/891 [==============================] - 0s 43us/sample - loss: 0.4175 - acc: 0.8103\n",
            "Epoch 35/100\n",
            "891/891 [==============================] - 0s 54us/sample - loss: 0.4180 - acc: 0.8025\n",
            "Epoch 36/100\n",
            "891/891 [==============================] - 0s 49us/sample - loss: 0.4168 - acc: 0.8103\n",
            "Epoch 37/100\n",
            "891/891 [==============================] - 0s 47us/sample - loss: 0.4166 - acc: 0.8114\n",
            "Epoch 38/100\n",
            "891/891 [==============================] - 0s 42us/sample - loss: 0.4158 - acc: 0.8092\n",
            "Epoch 39/100\n",
            "891/891 [==============================] - 0s 38us/sample - loss: 0.4157 - acc: 0.8114\n",
            "Epoch 40/100\n",
            "891/891 [==============================] - 0s 40us/sample - loss: 0.4156 - acc: 0.8103\n",
            "Epoch 41/100\n",
            "891/891 [==============================] - 0s 41us/sample - loss: 0.4155 - acc: 0.8126\n",
            "Epoch 42/100\n",
            "891/891 [==============================] - 0s 38us/sample - loss: 0.4149 - acc: 0.8137\n",
            "Epoch 43/100\n",
            "891/891 [==============================] - 0s 38us/sample - loss: 0.4148 - acc: 0.8126\n",
            "Epoch 44/100\n",
            "891/891 [==============================] - 0s 44us/sample - loss: 0.4143 - acc: 0.8126\n",
            "Epoch 45/100\n",
            "891/891 [==============================] - 0s 39us/sample - loss: 0.4142 - acc: 0.8137\n",
            "Epoch 46/100\n",
            "891/891 [==============================] - 0s 39us/sample - loss: 0.4141 - acc: 0.8126\n",
            "Epoch 47/100\n",
            "891/891 [==============================] - 0s 41us/sample - loss: 0.4142 - acc: 0.8126\n",
            "Epoch 48/100\n",
            "891/891 [==============================] - 0s 43us/sample - loss: 0.4135 - acc: 0.8137\n",
            "Epoch 49/100\n",
            "891/891 [==============================] - 0s 43us/sample - loss: 0.4136 - acc: 0.8126\n",
            "Epoch 50/100\n",
            "891/891 [==============================] - 0s 40us/sample - loss: 0.4132 - acc: 0.8126\n",
            "Epoch 51/100\n",
            "891/891 [==============================] - 0s 42us/sample - loss: 0.4129 - acc: 0.8126\n",
            "Epoch 52/100\n",
            "891/891 [==============================] - 0s 38us/sample - loss: 0.4129 - acc: 0.8126\n",
            "Epoch 53/100\n",
            "891/891 [==============================] - 0s 37us/sample - loss: 0.4125 - acc: 0.8126\n",
            "Epoch 54/100\n",
            "891/891 [==============================] - 0s 44us/sample - loss: 0.4124 - acc: 0.8126\n",
            "Epoch 55/100\n",
            "891/891 [==============================] - 0s 43us/sample - loss: 0.4126 - acc: 0.8126\n",
            "Epoch 56/100\n",
            "891/891 [==============================] - 0s 39us/sample - loss: 0.4123 - acc: 0.8126\n",
            "Epoch 57/100\n",
            "891/891 [==============================] - 0s 39us/sample - loss: 0.4123 - acc: 0.8126\n",
            "Epoch 58/100\n",
            "891/891 [==============================] - 0s 38us/sample - loss: 0.4120 - acc: 0.8137\n",
            "Epoch 59/100\n",
            "891/891 [==============================] - 0s 38us/sample - loss: 0.4116 - acc: 0.8137\n",
            "Epoch 60/100\n",
            "891/891 [==============================] - 0s 43us/sample - loss: 0.4128 - acc: 0.8081\n",
            "Epoch 61/100\n",
            "891/891 [==============================] - 0s 42us/sample - loss: 0.4114 - acc: 0.8114\n",
            "Epoch 62/100\n",
            "891/891 [==============================] - 0s 47us/sample - loss: 0.4113 - acc: 0.8126\n",
            "Epoch 63/100\n",
            "891/891 [==============================] - 0s 40us/sample - loss: 0.4111 - acc: 0.8148\n",
            "Epoch 64/100\n",
            "891/891 [==============================] - 0s 43us/sample - loss: 0.4113 - acc: 0.8126\n",
            "Epoch 65/100\n",
            "891/891 [==============================] - 0s 39us/sample - loss: 0.4109 - acc: 0.8137\n",
            "Epoch 66/100\n",
            "891/891 [==============================] - 0s 38us/sample - loss: 0.4109 - acc: 0.8126\n",
            "Epoch 67/100\n",
            "891/891 [==============================] - 0s 42us/sample - loss: 0.4106 - acc: 0.8137\n",
            "Epoch 68/100\n",
            "891/891 [==============================] - 0s 37us/sample - loss: 0.4106 - acc: 0.8114\n",
            "Epoch 69/100\n",
            "891/891 [==============================] - 0s 41us/sample - loss: 0.4107 - acc: 0.8137\n",
            "Epoch 70/100\n",
            "891/891 [==============================] - 0s 46us/sample - loss: 0.4107 - acc: 0.8148\n",
            "Epoch 71/100\n",
            "891/891 [==============================] - 0s 37us/sample - loss: 0.4102 - acc: 0.8126\n",
            "Epoch 72/100\n",
            "891/891 [==============================] - 0s 40us/sample - loss: 0.4105 - acc: 0.8137\n",
            "Epoch 73/100\n",
            "891/891 [==============================] - 0s 38us/sample - loss: 0.4101 - acc: 0.8148\n",
            "Epoch 74/100\n",
            "891/891 [==============================] - 0s 38us/sample - loss: 0.4102 - acc: 0.8159\n",
            "Epoch 75/100\n",
            "891/891 [==============================] - 0s 47us/sample - loss: 0.4099 - acc: 0.8148\n",
            "Epoch 76/100\n",
            "891/891 [==============================] - 0s 42us/sample - loss: 0.4099 - acc: 0.8148\n",
            "Epoch 77/100\n",
            "891/891 [==============================] - 0s 37us/sample - loss: 0.4101 - acc: 0.8137\n",
            "Epoch 78/100\n",
            "891/891 [==============================] - 0s 39us/sample - loss: 0.4102 - acc: 0.8114\n",
            "Epoch 79/100\n",
            "891/891 [==============================] - 0s 38us/sample - loss: 0.4095 - acc: 0.8137\n",
            "Epoch 80/100\n",
            "891/891 [==============================] - 0s 42us/sample - loss: 0.4096 - acc: 0.8148\n",
            "Epoch 81/100\n",
            "891/891 [==============================] - 0s 36us/sample - loss: 0.4094 - acc: 0.8137\n",
            "Epoch 82/100\n",
            "891/891 [==============================] - 0s 42us/sample - loss: 0.4097 - acc: 0.8148\n",
            "Epoch 83/100\n",
            "891/891 [==============================] - 0s 39us/sample - loss: 0.4096 - acc: 0.8148\n",
            "Epoch 84/100\n",
            "891/891 [==============================] - 0s 37us/sample - loss: 0.4093 - acc: 0.8137\n",
            "Epoch 85/100\n",
            "891/891 [==============================] - 0s 40us/sample - loss: 0.4094 - acc: 0.8148\n",
            "Epoch 86/100\n",
            "891/891 [==============================] - 0s 40us/sample - loss: 0.4092 - acc: 0.8137\n",
            "Epoch 87/100\n",
            "891/891 [==============================] - 0s 38us/sample - loss: 0.4092 - acc: 0.8148\n",
            "Epoch 88/100\n",
            "891/891 [==============================] - 0s 41us/sample - loss: 0.4090 - acc: 0.8137\n",
            "Epoch 89/100\n",
            "891/891 [==============================] - 0s 41us/sample - loss: 0.4094 - acc: 0.8148\n",
            "Epoch 90/100\n",
            "891/891 [==============================] - 0s 41us/sample - loss: 0.4085 - acc: 0.8126\n",
            "Epoch 91/100\n",
            "891/891 [==============================] - 0s 40us/sample - loss: 0.4087 - acc: 0.8193\n",
            "Epoch 92/100\n",
            "891/891 [==============================] - 0s 39us/sample - loss: 0.4078 - acc: 0.8227\n",
            "Epoch 93/100\n",
            "891/891 [==============================] - 0s 45us/sample - loss: 0.4070 - acc: 0.8227\n",
            "Epoch 94/100\n",
            "891/891 [==============================] - 0s 37us/sample - loss: 0.4066 - acc: 0.8227\n",
            "Epoch 95/100\n",
            "891/891 [==============================] - 0s 40us/sample - loss: 0.4064 - acc: 0.8227\n",
            "Epoch 96/100\n",
            "891/891 [==============================] - 0s 39us/sample - loss: 0.4070 - acc: 0.8215\n",
            "Epoch 97/100\n",
            "891/891 [==============================] - 0s 39us/sample - loss: 0.4051 - acc: 0.8238\n",
            "Epoch 98/100\n",
            "891/891 [==============================] - 0s 40us/sample - loss: 0.4051 - acc: 0.8238\n",
            "Epoch 99/100\n",
            "891/891 [==============================] - 0s 44us/sample - loss: 0.4048 - acc: 0.8238\n",
            "Epoch 100/100\n",
            "891/891 [==============================] - 0s 41us/sample - loss: 0.4044 - acc: 0.8238\n"
          ],
          "name": "stdout"
        },
        {
          "output_type": "execute_result",
          "data": {
            "text/plain": [
              "<tensorflow.python.keras.callbacks.History at 0x7f3d9cb1cc88>"
            ]
          },
          "metadata": {
            "tags": []
          },
          "execution_count": 37
        }
      ]
    },
    {
      "metadata": {
        "id": "1VVryuxHx2j0",
        "colab_type": "code",
        "outputId": "754d0f5c-70db-4446-dd0c-6af0727ab05e",
        "colab": {
          "base_uri": "https://localhost:8080/",
          "height": 54
        }
      },
      "cell_type": "code",
      "source": [
        "Y_test = model.predict(X_test).tolist()\n",
        "print(Y_test)"
      ],
      "execution_count": 38,
      "outputs": [
        {
          "output_type": "stream",
          "text": [
            "[[0.10615497827529907], [0.2687098979949951], [0.10414844751358032], [0.11898016929626465], [0.3106449246406555], [0.11244446039199829], [0.6044382452964783], [0.06381285190582275], [0.8260296583175659], [0.06035998463630676], [0.11457443237304688], [0.2809443473815918], [0.9820896983146667], [0.048752039670944214], [0.977138876914978], [0.9636873006820679], [0.10714593529701233], [0.10485801100730896], [0.3084224462509155], [0.6512019038200378], [0.3544394075870514], [0.38441523909568787], [0.9588692784309387], [0.5317372679710388], [0.9875678420066833], [0.05289599299430847], [0.9907152056694031], [0.10485801100730896], [0.2809443473815918], [0.05858886241912842], [0.048752039670944214], [0.06597590446472168], [0.26649558544158936], [0.3135101795196533], [0.5317372679710388], [0.10485801100730896], [0.48826730251312256], [0.48826730251312256], [0.11898016929626465], [0.12823212146759033], [0.05267438292503357], [0.2809443473815918], [0.10766664147377014], [0.8985236883163452], [0.977138876914978], [0.11898016929626465], [0.3963952958583832], [0.10705125331878662], [0.9754139184951782], [0.26649558544158936], [0.39777854084968567], [0.17774227261543274], [0.9032349586486816], [0.9797976016998291], [0.17774227261543274], [0.4155837893486023], [0.10766664147377014], [0.11457443237304688], [0.06035998463630676], [0.9782329797744751], [0.11457443237304688], [0.11141172051429749], [0.11457443237304688], [0.6044382452964783], [0.9549861550331116], [0.8955460786819458], [0.6044382452964783], [0.28652501106262207], [0.5039056539535522], [0.971232533454895], [0.6044382452964783], [0.11457443237304688], [0.48826730251312256], [0.5039056539535522], [0.9782329797744751], [0.5061728358268738], [0.11898016929626465], [0.9706802368164062], [0.11141172051429749], [0.6044382452964783], [0.4605652093887329], [0.017347365617752075], [0.21562695503234863], [0.11457443237304688], [0.1295132339000702], [0.05858886241912842], [0.6044382452964783], [0.48826730251312256], [0.6044382452964783], [0.6948631405830383], [0.3106449246406555], [0.11457443237304688], [0.9820896983146667], [0.11898016929626465], [0.5039056539535522], [0.11457443237304688], [0.24427422881126404], [0.11898016929626465], [0.4954712986946106], [0.1118403971195221], [0.9875678420066833], [0.06381285190582275], [0.10705125331878662], [0.11457443237304688], [0.7951513528823853], [0.1235317587852478], [0.10705125331878662], [0.10705125331878662], [0.11898016929626465], [0.11141172051429749], [0.10802054405212402], [0.6044382452964783], [0.9782329797744751], [0.6044382452964783], [0.971232533454895], [0.05858886241912842], [0.10485801100730896], [0.4812464416027069], [0.4028840661048889], [0.9202408194541931], [0.9231832027435303], [0.054865360260009766], [0.9875678420066833], [0.11457443237304688], [0.10705125331878662], [0.30639946460723877], [0.11457443237304688], [0.3415663540363312], [0.10830938816070557], [0.11898016929626465], [0.11898016929626465], [0.1948661208152771], [0.3135101795196533], [0.05405008792877197], [0.10766664147377014], [0.11457443237304688], [0.10485801100730896], [0.11141172051429749], [0.48826730251312256], [0.05883362889289856], [0.48102107644081116], [0.9474883079528809], [0.3544394075870514], [0.11474394798278809], [0.2809443473815918], [0.06035998463630676], [0.28652501106262207], [0.11898016929626465], [0.2809443473815918], [0.033754557371139526], [0.9903357028961182], [0.10485801100730896], [0.10916358232498169], [0.2670319676399231], [0.3658037781715393], [0.11457443237304688], [0.9635144472122192], [0.4954712986946106], [0.2809443473815918], [0.3106449246406555], [0.6044382452964783], [0.4605652093887329], [0.8445677757263184], [0.11457443237304688], [0.06509396433830261], [0.3135101795196533], [0.4028840661048889], [0.062828928232193], [0.983241856098175], [0.48826730251312256], [0.11457443237304688], [0.10485801100730896], [0.057982027530670166], [0.10485801100730896], [0.05883362889289856], [0.9499058127403259], [0.8359141945838928], [0.3544394075870514], [0.8528668880462646], [0.9840199947357178], [0.11141172051429749], [0.4383087456226349], [0.9820896983146667], [0.10705125331878662], [0.9903357028961182], [0.11156049370765686], [0.9032349586486816], [0.057982027530670166], [0.3043839633464813], [0.10830938816070557], [0.05222618579864502], [0.2809443473815918], [0.37196624279022217], [0.10414844751358032], [0.7014772891998291], [0.10766664147377014], [0.9549861550331116], [0.4954712986946106], [0.11141172051429749], [0.5655443072319031], [0.5889227390289307], [0.3781706690788269], [0.2754017114639282], [0.9497096538543701], [0.11141172051429749], [0.3963952958583832], [0.4792405366897583], [0.11141172051429749], [0.9784533977508545], [0.11457443237304688], [0.1235317587852478], [0.11457443237304688], [0.11816254258155823], [0.7377033233642578], [0.3008278012275696], [0.28652501106262207], [0.6044382452964783], [0.2464129626750946], [0.9840199947357178], [0.11898016929626465], [0.9584912061691284], [0.11898016929626465], [0.8985236883163452], [0.11457443237304688], [0.975662112236023], [0.537257969379425], [0.11457443237304688], [0.6044382452964783], [0.11615481972694397], [0.10830938816070557], [0.17616096138954163], [0.9638782143592834], [0.0556921660900116], [0.10705125331878662], [0.4383087456226349], [0.11457443237304688], [0.3544394075870514], [0.10485801100730896], [0.9012999534606934], [0.9875678420066833], [0.975662112236023], [0.8528399467468262], [0.4383087456226349], [0.11457443237304688], [0.33444923162460327], [0.3172836899757385], [0.8955460786819458], [0.054019153118133545], [0.9202408194541931], [0.537257969379425], [0.9497096538543701], [0.11898016929626465], [0.5317372679710388], [0.11898016929626465], [0.11898016929626465], [0.11457443237304688], [0.10705125331878662], [0.11898016929626465], [0.8445677757263184], [0.11457443237304688], [0.05651223659515381], [0.11457443237304688], [0.9202408194541931], [0.4814718961715698], [0.17564532160758972], [0.11457443237304688], [0.2699841856956482], [0.11457443237304688], [0.48826730251312256], [0.11898016929626465], [0.4028840661048889], [0.10705125331878662], [0.9903357028961182], [0.3415663540363312], [0.10485801100730896], [0.9032349586486816], [0.11141172051429749], [0.05222618579864502], [0.06381285190582275], [0.11141172051429749], [0.48826730251312256], [0.3781706690788269], [0.6044382452964783], [0.6945796608924866], [0.4812464416027069], [0.10766664147377014], [0.11457443237304688], [0.39777854084968567], [0.10485801100730896], [0.11898016929626465], [0.28652501106262207], [0.6044382452964783], [0.10485801100730896], [0.12628111243247986], [0.1118403971195221], [0.11457443237304688], [0.9784382581710815], [0.05858886241912842], [0.3635936975479126], [0.11457443237304688], [0.11457443237304688], [0.17774227261543274], [0.05222618579864502], [0.11898016929626465], [0.6044382452964783], [0.9706802368164062], [0.39777854084968567], [0.3781706690788269], [0.2464129626750946], [0.2670319676399231], [0.11898016929626465], [0.10485801100730896], [0.11457443237304688], [0.4792405366897583], [0.9754139184951782], [0.6044382452964783], [0.3544394075870514], [0.11141172051429749], [0.11457443237304688], [0.06597590446472168], [0.11457443237304688], [0.10485801100730896], [0.11141172051429749], [0.2809443473815918], [0.9474883079528809], [0.11457443237304688], [0.9499058127403259], [0.4028840661048889], [0.06381285190582275], [0.11141172051429749], [0.8528668880462646], [0.3963952958583832], [0.10485801100730896], [0.537257969379425], [0.11457443237304688], [0.35739678144454956], [0.11141172051429749], [0.05058291554450989], [0.11816254258155823], [0.4619278907775879], [0.11141172051429749], [0.11457443237304688], [0.062828928232193], [0.9997273683547974], [0.33444923162460327], [0.7182254791259766], [0.11141172051429749], [0.6512019038200378], [0.11141172051429749], [0.8402884602546692], [0.9875678420066833], [0.11141172051429749], [0.11816254258155823], [0.05048787593841553], [0.4812464416027069], [0.21562695503234863], [0.971232533454895], [0.11457443237304688], [0.10705125331878662], [0.3135101795196533], [0.3658037781715393], [0.9645649194717407], [0.8955460786819458], [0.11898016929626465], [0.9903357028961182], [0.3170126676559448], [0.05858886241912842], [0.47566676139831543], [0.9875678420066833], [0.17564532160758972], [0.06171602010726929], [0.9850243330001831], [0.2064831256866455], [0.10830938816070557], [0.971232533454895], [0.9782329797744751], [0.3084224462509155], [0.11141172051429749], [0.22030767798423767], [0.3658037781715393], [0.10705125331878662], [0.10705125331878662], [0.5584492087364197], [0.3135101795196533], [0.11141172051429749], [0.9051361083984375], [0.11457443237304688], [0.10528314113616943], [0.10705125331878662], [0.37196624279022217], [0.3635936975479126], [0.971232533454895], [0.37196624279022217], [0.10830938816070557], [0.06035998463630676], [0.9820896983146667], [0.10705125331878662], [0.9875678420066833], [0.11457443237304688], [0.10705125331878662], [0.9635144472122192], [0.05222618579864502], [0.9907152056694031], [0.3635936975479126], [0.43156003952026367], [0.17564532160758972], [0.06171602010726929], [0.3544394075870514], [0.6044382452964783], [0.4814718961715698], [0.6044382452964783], [0.9830819368362427], [0.4954712986946106], [0.11898016929626465], [0.9625406265258789], [0.10766664147377014], [0.11898022145032883], [0.3906998336315155]]\n"
          ],
          "name": "stdout"
        }
      ]
    },
    {
      "metadata": {
        "id": "k6nKlenszz6t",
        "colab_type": "code",
        "colab": {
          "base_uri": "https://localhost:8080/",
          "height": 4532
        },
        "outputId": "62a7c7dc-23c5-4e14-9247-b0d66afe33b5"
      },
      "cell_type": "code",
      "source": [
        "for newdataset in combine:\n",
        "   \n",
        "    newdataset['test_survived'] = pd.Series(Y_test)\n",
        "    newdataset['test_survived'] = newdataset['test_survived'].str.get(0)\n",
        "    print(newdataset)"
      ],
      "execution_count": 39,
      "outputs": [
        {
          "output_type": "stream",
          "text": [
            "     Survived  Pclass  Sex  Age  Fare  Embarked  Title  IsAlone  Age*Class  \\\n",
            "0           1       1    1    2     3         0    3.0        0          2   \n",
            "1           1       3    1    1     1         2    2.0        1          3   \n",
            "2           1       1    1    2     3         2    3.0        0          2   \n",
            "3           1       3    1    1     1         2    3.0        0          3   \n",
            "4           1       2    1    0     2         0    3.0        0          0   \n",
            "5           1       3    1    0     2         2    2.0        0          0   \n",
            "6           1       1    1    3     2         2    2.0        1          3   \n",
            "7           1       2    1    3     2         2    3.0        1          6   \n",
            "8           1       3    1    1     0         0    3.0        1          3   \n",
            "9           1       3    1    0     1         1    2.0        1          0   \n",
            "10          1       3    1    2     3         2    3.0        0          6   \n",
            "11          1       3    1    1     0         1    2.0        1          3   \n",
            "12          1       1    1    2     3         0    3.0        0          2   \n",
            "13          1       3    1    1     0         1    2.0        1          3   \n",
            "14          1       3    1    0     1         0    2.0        0          0   \n",
            "15          1       2    1    0     3         0    2.0        0          0   \n",
            "16          1       3    1    1     0         1    2.0        1          3   \n",
            "17          1       3    1    1     0         1    2.0        1          3   \n",
            "18          1       1    1    3     3         0    3.0        0          3   \n",
            "19          1       2    1    1     2         2    3.0        0          2   \n",
            "20          1       2    1    1     1         2    2.0        1          2   \n",
            "21          1       2    1    0     2         2    2.0        0          0   \n",
            "22          1       1    1    2     3         2    2.0        1          2   \n",
            "23          1       2    1    1     1         2    3.0        1          2   \n",
            "24          1       3    1    1     1         2    2.0        0          3   \n",
            "25          1       3    1    1     1         2    2.0        1          3   \n",
            "26          1       3    1    1     0         1    2.0        1          3   \n",
            "27          1       2    1    1     1         2    2.0        1          2   \n",
            "28          1       3    1    2     2         2    3.0        0          6   \n",
            "29          1       1    1    1     3         2    2.0        0          1   \n",
            "..        ...     ...  ...  ...   ...       ...    ...      ...        ...   \n",
            "861         0       3    0    1     1         2    1.0        1          3   \n",
            "862         0       3    0    1     1         2    1.0        1          3   \n",
            "863         0       3    0    1     1         2    1.0        1          3   \n",
            "864         0       3    0    1     1         2    1.0        1          3   \n",
            "865         0       2    0    0     1         2    1.0        1          0   \n",
            "866         0       3    0    2     0         0    1.0        1          6   \n",
            "867         0       3    0    1     1         2    1.0        1          3   \n",
            "868         0       3    0    2     0         2    1.0        1          6   \n",
            "869         0       3    0    1     3         2    1.0        0          3   \n",
            "870         0       3    0    2     0         0    1.0        1          6   \n",
            "871         0       2    0    1     3         2    0.0        0          2   \n",
            "872         0       3    0    0     3         2    4.0        0          0   \n",
            "873         0       3    0   74     0         2    1.0        1        222   \n",
            "874         0       3    0    1     0         0    1.0        1          3   \n",
            "875         0       3    0    2     1         2    1.0        0          6   \n",
            "876         0       2    0    1     1         2    1.0        0          2   \n",
            "877         0       2    0    1     1         2    1.0        1          2   \n",
            "878         0       1    0    1     3         2    1.0        1          1   \n",
            "879         0       3    0    1     1         2    1.0        1          3   \n",
            "880         0       3    0    1     0         2    1.0        1          3   \n",
            "881         0       1    0    2     0         2    1.0        1          2   \n",
            "882         0       3    0    2     1         2    1.0        1          6   \n",
            "883         0       3    0    1     1         2    1.0        1          3   \n",
            "884         0       3    0    1     0         2    1.0        1          3   \n",
            "885         0       3    0    1     0         2    1.0        1          3   \n",
            "886         0       3    0    2     0         2    1.0        1          6   \n",
            "887         0       2    0    1     1         2    1.0        1          2   \n",
            "888         0       3    0    1     0         2    1.0        1          3   \n",
            "889         0       2    0    1     1         2    0.0        1          2   \n",
            "890         0       3    0    1     0         1    1.0        1          3   \n",
            "\n",
            "     test_survived  \n",
            "0         0.106155  \n",
            "1         0.268710  \n",
            "2         0.104148  \n",
            "3         0.118980  \n",
            "4         0.310645  \n",
            "5         0.112444  \n",
            "6         0.604438  \n",
            "7         0.063813  \n",
            "8         0.826030  \n",
            "9         0.060360  \n",
            "10        0.114574  \n",
            "11        0.280944  \n",
            "12        0.982090  \n",
            "13        0.048752  \n",
            "14        0.977139  \n",
            "15        0.963687  \n",
            "16        0.107146  \n",
            "17        0.104858  \n",
            "18        0.308422  \n",
            "19        0.651202  \n",
            "20        0.354439  \n",
            "21        0.384415  \n",
            "22        0.958869  \n",
            "23        0.531737  \n",
            "24        0.987568  \n",
            "25        0.052896  \n",
            "26        0.990715  \n",
            "27        0.104858  \n",
            "28        0.280944  \n",
            "29        0.058589  \n",
            "..             ...  \n",
            "861            NaN  \n",
            "862            NaN  \n",
            "863            NaN  \n",
            "864            NaN  \n",
            "865            NaN  \n",
            "866            NaN  \n",
            "867            NaN  \n",
            "868            NaN  \n",
            "869            NaN  \n",
            "870            NaN  \n",
            "871            NaN  \n",
            "872            NaN  \n",
            "873            NaN  \n",
            "874            NaN  \n",
            "875            NaN  \n",
            "876            NaN  \n",
            "877            NaN  \n",
            "878            NaN  \n",
            "879            NaN  \n",
            "880            NaN  \n",
            "881            NaN  \n",
            "882            NaN  \n",
            "883            NaN  \n",
            "884            NaN  \n",
            "885            NaN  \n",
            "886            NaN  \n",
            "887            NaN  \n",
            "888            NaN  \n",
            "889            NaN  \n",
            "890            NaN  \n",
            "\n",
            "[891 rows x 10 columns]\n",
            "     PassengerId  Pclass  Sex  Age  Fare  Embarked  Title  IsAlone  Age*Class  \\\n",
            "0            892       3    0    2     0         1    1.0        1          6   \n",
            "1            893       3    1    2     0         2    3.0        0          6   \n",
            "2            894       2    0    3     1         1    1.0        1          6   \n",
            "3            895       3    0    1     1         2    1.0        1          3   \n",
            "4            896       3    1    1     1         2    3.0        0          3   \n",
            "5            897       3    0    0     1         2    1.0        1          0   \n",
            "6            898       3    1    1     0         1    2.0        1          3   \n",
            "7            899       2    0    1     2         2    1.0        0          2   \n",
            "8            900       3    1    1     0         0    3.0        1          3   \n",
            "9            901       3    0    1     2         2    1.0        0          3   \n",
            "10           902       3    0    1     0         2    1.0        1          3   \n",
            "11           903       1    0    2     2         2    1.0        1          2   \n",
            "12           904       1    1    1     3         2    3.0        0          1   \n",
            "13           905       2    0    3     2         2    1.0        0          6   \n",
            "14           906       1    1    2     3         2    3.0        0          2   \n",
            "15           907       2    1    1     2         0    3.0        0          2   \n",
            "16           908       2    0    2     1         1    1.0        1          4   \n",
            "17           909       3    0    1     0         0    1.0        1          3   \n",
            "18           910       3    1    1     1         2    2.0        0          3   \n",
            "19           911       3    1    2     0         0    3.0        1          6   \n",
            "20           912       1    0    3     3         0    1.0        0          3   \n",
            "21           913       3    0    0     0         2    4.0        0          0   \n",
            "22           914       1    1    2     3         2    3.0        1          2   \n",
            "23           915       1    0    1     3         0    1.0        0          1   \n",
            "24           916       1    1    2     3         0    3.0        0          2   \n",
            "25           917       3    0    3     2         2    1.0        0          9   \n",
            "26           918       1    1    1     3         0    2.0        0          1   \n",
            "27           919       3    0    1     0         0    1.0        1          3   \n",
            "28           920       1    0    2     2         2    1.0        1          2   \n",
            "29           921       3    0    1     2         0    1.0        0          3   \n",
            "..           ...     ...  ...  ...   ...       ...    ...      ...        ...   \n",
            "388         1280       3    0    1     0         1    1.0        1          3   \n",
            "389         1281       3    0    0     2         2    4.0        0          0   \n",
            "390         1282       1    0    1     3         2    1.0        1          1   \n",
            "391         1283       1    1    3     3         2    3.0        0          3   \n",
            "392         1284       3    0    0     2         2    4.0        0          0   \n",
            "393         1285       2    0    2     1         2    1.0        1          4   \n",
            "394         1286       3    0    1     2         2    1.0        0          3   \n",
            "395         1287       1    1    1     3         2    3.0        0          1   \n",
            "396         1288       3    0    1     0         1    1.0        1          3   \n",
            "397         1289       1    1    2     3         0    3.0        0          2   \n",
            "398         1290       3    0    1     0         2    1.0        1          3   \n",
            "399         1291       3    0    1     0         1    1.0        1          3   \n",
            "400         1292       1    1    1     3         2    2.0        1          1   \n",
            "401         1293       2    0    2     2         2    1.0        0          4   \n",
            "402         1294       1    1    1     3         0    2.0        0          1   \n",
            "403         1295       1    0    1     3         2    1.0        1          1   \n",
            "404         1296       1    0    2     2         0    1.0        0          2   \n",
            "405         1297       2    0    1     1         0    1.0        1          2   \n",
            "406         1298       2    0    1     1         2    1.0        0          2   \n",
            "407         1299       1    0    3     3         0    1.0        0          3   \n",
            "408         1300       3    1    1     0         1    2.0        1          3   \n",
            "409         1301       3    1    0     1         2    2.0        0          0   \n",
            "410         1302       3    1    1     0         1    2.0        1          3   \n",
            "411         1303       1    1    2     3         1    3.0        0          2   \n",
            "412         1304       3    1    1     0         2    2.0        1          3   \n",
            "413         1305       3    0    1     1         2    1.0        1          3   \n",
            "414         1306       1    1    2     3         0    0.0        1          2   \n",
            "415         1307       3    0    2     0         2    1.0        1          6   \n",
            "416         1308       3    0    1     1         2    1.0        1          3   \n",
            "417         1309       3    0    1     2         0    4.0        0          3   \n",
            "\n",
            "     test_survived  \n",
            "0         0.106155  \n",
            "1         0.268710  \n",
            "2         0.104148  \n",
            "3         0.118980  \n",
            "4         0.310645  \n",
            "5         0.112444  \n",
            "6         0.604438  \n",
            "7         0.063813  \n",
            "8         0.826030  \n",
            "9         0.060360  \n",
            "10        0.114574  \n",
            "11        0.280944  \n",
            "12        0.982090  \n",
            "13        0.048752  \n",
            "14        0.977139  \n",
            "15        0.963687  \n",
            "16        0.107146  \n",
            "17        0.104858  \n",
            "18        0.308422  \n",
            "19        0.651202  \n",
            "20        0.354439  \n",
            "21        0.384415  \n",
            "22        0.958869  \n",
            "23        0.531737  \n",
            "24        0.987568  \n",
            "25        0.052896  \n",
            "26        0.990715  \n",
            "27        0.104858  \n",
            "28        0.280944  \n",
            "29        0.058589  \n",
            "..             ...  \n",
            "388       0.107051  \n",
            "389       0.371966  \n",
            "390       0.363594  \n",
            "391       0.971233  \n",
            "392       0.371966  \n",
            "393       0.108309  \n",
            "394       0.060360  \n",
            "395       0.982090  \n",
            "396       0.107051  \n",
            "397       0.987568  \n",
            "398       0.114574  \n",
            "399       0.107051  \n",
            "400       0.963514  \n",
            "401       0.052226  \n",
            "402       0.990715  \n",
            "403       0.363594  \n",
            "404       0.431560  \n",
            "405       0.175645  \n",
            "406       0.061716  \n",
            "407       0.354439  \n",
            "408       0.604438  \n",
            "409       0.481472  \n",
            "410       0.604438  \n",
            "411       0.983082  \n",
            "412       0.495471  \n",
            "413       0.118980  \n",
            "414       0.962541  \n",
            "415       0.107667  \n",
            "416       0.118980  \n",
            "417       0.390700  \n",
            "\n",
            "[418 rows x 10 columns]\n"
          ],
          "name": "stdout"
        }
      ]
    },
    {
      "metadata": {
        "id": "9jcG92Cxz4XS",
        "colab_type": "code",
        "colab": {}
      },
      "cell_type": "code",
      "source": [
        "series = []\n",
        "for val in newdataset.test_survived:\n",
        "    if val >= 0.5:\n",
        "        series.append(1)\n",
        "    else:\n",
        "        series.append(0)\n",
        "newdataset['final'] = series"
      ],
      "execution_count": 0,
      "outputs": []
    },
    {
      "metadata": {
        "id": "YIw7RCh7z-1M",
        "colab_type": "code",
        "outputId": "6288afae-cc00-40c4-ac03-7f3e576f21a1",
        "colab": {
          "base_uri": "https://localhost:8080/",
          "height": 197
        }
      },
      "cell_type": "code",
      "source": [
        "test_df.head()"
      ],
      "execution_count": 41,
      "outputs": [
        {
          "output_type": "execute_result",
          "data": {
            "text/html": [
              "<div>\n",
              "<style scoped>\n",
              "    .dataframe tbody tr th:only-of-type {\n",
              "        vertical-align: middle;\n",
              "    }\n",
              "\n",
              "    .dataframe tbody tr th {\n",
              "        vertical-align: top;\n",
              "    }\n",
              "\n",
              "    .dataframe thead th {\n",
              "        text-align: right;\n",
              "    }\n",
              "</style>\n",
              "<table border=\"1\" class=\"dataframe\">\n",
              "  <thead>\n",
              "    <tr style=\"text-align: right;\">\n",
              "      <th></th>\n",
              "      <th>PassengerId</th>\n",
              "      <th>Pclass</th>\n",
              "      <th>Sex</th>\n",
              "      <th>Age</th>\n",
              "      <th>Fare</th>\n",
              "      <th>Embarked</th>\n",
              "      <th>Title</th>\n",
              "      <th>IsAlone</th>\n",
              "      <th>Age*Class</th>\n",
              "      <th>test_survived</th>\n",
              "      <th>final</th>\n",
              "    </tr>\n",
              "  </thead>\n",
              "  <tbody>\n",
              "    <tr>\n",
              "      <th>0</th>\n",
              "      <td>892</td>\n",
              "      <td>3</td>\n",
              "      <td>0</td>\n",
              "      <td>2</td>\n",
              "      <td>0</td>\n",
              "      <td>1</td>\n",
              "      <td>1.0</td>\n",
              "      <td>1</td>\n",
              "      <td>6</td>\n",
              "      <td>0.106155</td>\n",
              "      <td>0</td>\n",
              "    </tr>\n",
              "    <tr>\n",
              "      <th>1</th>\n",
              "      <td>893</td>\n",
              "      <td>3</td>\n",
              "      <td>1</td>\n",
              "      <td>2</td>\n",
              "      <td>0</td>\n",
              "      <td>2</td>\n",
              "      <td>3.0</td>\n",
              "      <td>0</td>\n",
              "      <td>6</td>\n",
              "      <td>0.268710</td>\n",
              "      <td>0</td>\n",
              "    </tr>\n",
              "    <tr>\n",
              "      <th>2</th>\n",
              "      <td>894</td>\n",
              "      <td>2</td>\n",
              "      <td>0</td>\n",
              "      <td>3</td>\n",
              "      <td>1</td>\n",
              "      <td>1</td>\n",
              "      <td>1.0</td>\n",
              "      <td>1</td>\n",
              "      <td>6</td>\n",
              "      <td>0.104148</td>\n",
              "      <td>0</td>\n",
              "    </tr>\n",
              "    <tr>\n",
              "      <th>3</th>\n",
              "      <td>895</td>\n",
              "      <td>3</td>\n",
              "      <td>0</td>\n",
              "      <td>1</td>\n",
              "      <td>1</td>\n",
              "      <td>2</td>\n",
              "      <td>1.0</td>\n",
              "      <td>1</td>\n",
              "      <td>3</td>\n",
              "      <td>0.118980</td>\n",
              "      <td>0</td>\n",
              "    </tr>\n",
              "    <tr>\n",
              "      <th>4</th>\n",
              "      <td>896</td>\n",
              "      <td>3</td>\n",
              "      <td>1</td>\n",
              "      <td>1</td>\n",
              "      <td>1</td>\n",
              "      <td>2</td>\n",
              "      <td>3.0</td>\n",
              "      <td>0</td>\n",
              "      <td>3</td>\n",
              "      <td>0.310645</td>\n",
              "      <td>0</td>\n",
              "    </tr>\n",
              "  </tbody>\n",
              "</table>\n",
              "</div>"
            ],
            "text/plain": [
              "   PassengerId  Pclass  Sex  Age  Fare  Embarked  Title  IsAlone  Age*Class  \\\n",
              "0          892       3    0    2     0         1    1.0        1          6   \n",
              "1          893       3    1    2     0         2    3.0        0          6   \n",
              "2          894       2    0    3     1         1    1.0        1          6   \n",
              "3          895       3    0    1     1         2    1.0        1          3   \n",
              "4          896       3    1    1     1         2    3.0        0          3   \n",
              "\n",
              "   test_survived  final  \n",
              "0       0.106155      0  \n",
              "1       0.268710      0  \n",
              "2       0.104148      0  \n",
              "3       0.118980      0  \n",
              "4       0.310645      0  "
            ]
          },
          "metadata": {
            "tags": []
          },
          "execution_count": 41
        }
      ]
    },
    {
      "metadata": {
        "id": "6D3DSyLttP32",
        "colab_type": "code",
        "colab": {
          "base_uri": "https://localhost:8080/",
          "height": 1154
        },
        "outputId": "ea958b37-5bb0-4a98-a0a8-bc6eb16fb96e"
      },
      "cell_type": "code",
      "source": [
        "submission_file = pd.DataFrame(data = {'PassengerId': test_df.PassengerId, 'survived': test_df.final})\n",
        "print(submission_file)"
      ],
      "execution_count": 45,
      "outputs": [
        {
          "output_type": "stream",
          "text": [
            "     PassengerId  survived\n",
            "0            892         0\n",
            "1            893         0\n",
            "2            894         0\n",
            "3            895         0\n",
            "4            896         0\n",
            "5            897         0\n",
            "6            898         1\n",
            "7            899         0\n",
            "8            900         1\n",
            "9            901         0\n",
            "10           902         0\n",
            "11           903         0\n",
            "12           904         1\n",
            "13           905         0\n",
            "14           906         1\n",
            "15           907         1\n",
            "16           908         0\n",
            "17           909         0\n",
            "18           910         0\n",
            "19           911         1\n",
            "20           912         0\n",
            "21           913         0\n",
            "22           914         1\n",
            "23           915         1\n",
            "24           916         1\n",
            "25           917         0\n",
            "26           918         1\n",
            "27           919         0\n",
            "28           920         0\n",
            "29           921         0\n",
            "..           ...       ...\n",
            "388         1280         0\n",
            "389         1281         0\n",
            "390         1282         0\n",
            "391         1283         1\n",
            "392         1284         0\n",
            "393         1285         0\n",
            "394         1286         0\n",
            "395         1287         1\n",
            "396         1288         0\n",
            "397         1289         1\n",
            "398         1290         0\n",
            "399         1291         0\n",
            "400         1292         1\n",
            "401         1293         0\n",
            "402         1294         1\n",
            "403         1295         0\n",
            "404         1296         0\n",
            "405         1297         0\n",
            "406         1298         0\n",
            "407         1299         0\n",
            "408         1300         1\n",
            "409         1301         0\n",
            "410         1302         1\n",
            "411         1303         1\n",
            "412         1304         0\n",
            "413         1305         0\n",
            "414         1306         1\n",
            "415         1307         0\n",
            "416         1308         0\n",
            "417         1309         0\n",
            "\n",
            "[418 rows x 2 columns]\n"
          ],
          "name": "stdout"
        }
      ]
    },
    {
      "metadata": {
        "id": "m8MaWyQqt2z8",
        "colab_type": "code",
        "colab": {}
      },
      "cell_type": "code",
      "source": [
        "submission_file.to_csv('my_submission.csv', index=False)"
      ],
      "execution_count": 0,
      "outputs": []
    },
    {
      "metadata": {
        "id": "4KK1P8S1uEb8",
        "colab_type": "code",
        "colab": {}
      },
      "cell_type": "code",
      "source": [
        "from google.colab import files\n",
        "\n",
        "files.download('my_submission.csv')"
      ],
      "execution_count": 0,
      "outputs": []
    }
  ]
}