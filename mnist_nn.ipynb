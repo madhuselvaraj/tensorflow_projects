{
  "nbformat": 4,
  "nbformat_minor": 0,
  "metadata": {
    "colab": {
      "name": "mnist_nn.ipynb",
      "version": "0.3.2",
      "provenance": [],
      "collapsed_sections": [],
      "include_colab_link": true
    },
    "kernelspec": {
      "name": "python3",
      "display_name": "Python 3"
    }
  },
  "cells": [
    {
      "cell_type": "markdown",
      "metadata": {
        "id": "view-in-github",
        "colab_type": "text"
      },
      "source": [
        "<a href=\"https://colab.research.google.com/github/madhuselvaraj/tensorflow_projects/blob/master/mnist_nn.ipynb\" target=\"_parent\"><img src=\"https://colab.research.google.com/assets/colab-badge.svg\" alt=\"Open In Colab\"/></a>"
      ]
    },
    {
      "metadata": {
        "id": "MI2NmscGX99h",
        "colab_type": "text"
      },
      "cell_type": "markdown",
      "source": [
        "import tensorflow"
      ]
    },
    {
      "metadata": {
        "id": "PD21eHSe3-FY",
        "colab_type": "code",
        "colab": {}
      },
      "cell_type": "code",
      "source": [
        "import tensorflow as tf"
      ],
      "execution_count": 0,
      "outputs": []
    },
    {
      "metadata": {
        "id": "-u-G-HA8YHMi",
        "colab_type": "text"
      },
      "cell_type": "markdown",
      "source": [
        "Get datasets from fashion_mnist which is similar to mnist dataset but with a pixels of about 28 * 28. this is just for saving the loading time and reduces complexity."
      ]
    },
    {
      "metadata": {
        "id": "2Awx-1bV4OKE",
        "colab_type": "code",
        "colab": {}
      },
      "cell_type": "code",
      "source": [
        "mnist = tf.keras.datasets.fashion_mnist"
      ],
      "execution_count": 0,
      "outputs": []
    },
    {
      "metadata": {
        "id": "zI08CEw6YnKo",
        "colab_type": "text"
      },
      "cell_type": "markdown",
      "source": [
        "Get or load training images and labels ,testing images and labels from our dataset and label it as training images and training_images ,training_labels,test_images ,test_labels."
      ]
    },
    {
      "metadata": {
        "id": "THSoQy-A4U8I",
        "colab_type": "code",
        "colab": {}
      },
      "cell_type": "code",
      "source": [
        "(training_images,training_labels),(test_images,test_labels) = mnist.load_data()"
      ],
      "execution_count": 0,
      "outputs": []
    },
    {
      "metadata": {
        "id": "huaZsNRtZHSg",
        "colab_type": "text"
      },
      "cell_type": "markdown",
      "source": [
        "now import matploit for ploting the pixels of our images."
      ]
    },
    {
      "metadata": {
        "id": "XpuM4F8e4Yak",
        "colab_type": "code",
        "outputId": "1a27875a-04d4-410d-d03a-b32ce8ac034f",
        "colab": {
          "base_uri": "https://localhost:8080/",
          "height": 1238
        }
      },
      "cell_type": "code",
      "source": [
        "import matplotlib.pyplot as plt\n",
        "plt.imshow(training_images[4])\n",
        "print(training_images[0])\n",
        "print(training_labels[0])"
      ],
      "execution_count": 0,
      "outputs": [
        {
          "output_type": "stream",
          "text": [
            "[[  0   0   0   0   0   0   0   0   0   0   0   0   0   0   0   0   0   0\n",
            "    0   0   0   0   0   0   0   0   0   0]\n",
            " [  0   0   0   0   0   0   0   0   0   0   0   0   0   0   0   0   0   0\n",
            "    0   0   0   0   0   0   0   0   0   0]\n",
            " [  0   0   0   0   0   0   0   0   0   0   0   0   0   0   0   0   0   0\n",
            "    0   0   0   0   0   0   0   0   0   0]\n",
            " [  0   0   0   0   0   0   0   0   0   0   0   0   1   0   0  13  73   0\n",
            "    0   1   4   0   0   0   0   1   1   0]\n",
            " [  0   0   0   0   0   0   0   0   0   0   0   0   3   0  36 136 127  62\n",
            "   54   0   0   0   1   3   4   0   0   3]\n",
            " [  0   0   0   0   0   0   0   0   0   0   0   0   6   0 102 204 176 134\n",
            "  144 123  23   0   0   0   0  12  10   0]\n",
            " [  0   0   0   0   0   0   0   0   0   0   0   0   0   0 155 236 207 178\n",
            "  107 156 161 109  64  23  77 130  72  15]\n",
            " [  0   0   0   0   0   0   0   0   0   0   0   1   0  69 207 223 218 216\n",
            "  216 163 127 121 122 146 141  88 172  66]\n",
            " [  0   0   0   0   0   0   0   0   0   1   1   1   0 200 232 232 233 229\n",
            "  223 223 215 213 164 127 123 196 229   0]\n",
            " [  0   0   0   0   0   0   0   0   0   0   0   0   0 183 225 216 223 228\n",
            "  235 227 224 222 224 221 223 245 173   0]\n",
            " [  0   0   0   0   0   0   0   0   0   0   0   0   0 193 228 218 213 198\n",
            "  180 212 210 211 213 223 220 243 202   0]\n",
            " [  0   0   0   0   0   0   0   0   0   1   3   0  12 219 220 212 218 192\n",
            "  169 227 208 218 224 212 226 197 209  52]\n",
            " [  0   0   0   0   0   0   0   0   0   0   6   0  99 244 222 220 218 203\n",
            "  198 221 215 213 222 220 245 119 167  56]\n",
            " [  0   0   0   0   0   0   0   0   0   4   0   0  55 236 228 230 228 240\n",
            "  232 213 218 223 234 217 217 209  92   0]\n",
            " [  0   0   1   4   6   7   2   0   0   0   0   0 237 226 217 223 222 219\n",
            "  222 221 216 223 229 215 218 255  77   0]\n",
            " [  0   3   0   0   0   0   0   0   0  62 145 204 228 207 213 221 218 208\n",
            "  211 218 224 223 219 215 224 244 159   0]\n",
            " [  0   0   0   0  18  44  82 107 189 228 220 222 217 226 200 205 211 230\n",
            "  224 234 176 188 250 248 233 238 215   0]\n",
            " [  0  57 187 208 224 221 224 208 204 214 208 209 200 159 245 193 206 223\n",
            "  255 255 221 234 221 211 220 232 246   0]\n",
            " [  3 202 228 224 221 211 211 214 205 205 205 220 240  80 150 255 229 221\n",
            "  188 154 191 210 204 209 222 228 225   0]\n",
            " [ 98 233 198 210 222 229 229 234 249 220 194 215 217 241  65  73 106 117\n",
            "  168 219 221 215 217 223 223 224 229  29]\n",
            " [ 75 204 212 204 193 205 211 225 216 185 197 206 198 213 240 195 227 245\n",
            "  239 223 218 212 209 222 220 221 230  67]\n",
            " [ 48 203 183 194 213 197 185 190 194 192 202 214 219 221 220 236 225 216\n",
            "  199 206 186 181 177 172 181 205 206 115]\n",
            " [  0 122 219 193 179 171 183 196 204 210 213 207 211 210 200 196 194 191\n",
            "  195 191 198 192 176 156 167 177 210  92]\n",
            " [  0   0  74 189 212 191 175 172 175 181 185 188 189 188 193 198 204 209\n",
            "  210 210 211 188 188 194 192 216 170   0]\n",
            " [  2   0   0   0  66 200 222 237 239 242 246 243 244 221 220 193 191 179\n",
            "  182 182 181 176 166 168  99  58   0   0]\n",
            " [  0   0   0   0   0   0   0  40  61  44  72  41  35   0   0   0   0   0\n",
            "    0   0   0   0   0   0   0   0   0   0]\n",
            " [  0   0   0   0   0   0   0   0   0   0   0   0   0   0   0   0   0   0\n",
            "    0   0   0   0   0   0   0   0   0   0]\n",
            " [  0   0   0   0   0   0   0   0   0   0   0   0   0   0   0   0   0   0\n",
            "    0   0   0   0   0   0   0   0   0   0]]\n",
            "9\n"
          ],
          "name": "stdout"
        },
        {
          "output_type": "display_data",
          "data": {
            "image/png": "[encoded data removed]",
            "text/plain": [
              "<Figure size 432x288 with 1 Axes>"
            ]
          },
          "metadata": {
            "tags": []
          }
        }
      ]
    },
    {
      "metadata": {
        "id": "Rwx-ncx8ZcgX",
        "colab_type": "text"
      },
      "cell_type": "markdown",
      "source": [
        "here we are normalizing the training_images and testing images by dividing it through 255. (i.e) our pixel range is between 0 to 255 inorder to reduce the compexity we can normalize it  from 0 to 1."
      ]
    },
    {
      "metadata": {
        "id": "n5qJH2GO4kMe",
        "colab_type": "code",
        "colab": {}
      },
      "cell_type": "code",
      "source": [
        "training_images  = training_images / 255.0\n",
        "test_images = test_images / 255.0"
      ],
      "execution_count": 0,
      "outputs": []
    },
    {
      "metadata": {
        "id": "FUOB9HUlZ7V3",
        "colab_type": "text"
      },
      "cell_type": "markdown",
      "source": [
        "introducing a model with input layer ,one hidden layer and an output layer ."
      ]
    },
    {
      "metadata": {
        "id": "NYyRjgHc4x-p",
        "colab_type": "code",
        "colab": {}
      },
      "cell_type": "code",
      "source": [
        "model = tf.keras.models.Sequential([tf.keras.layers.Flatten(),\n",
        "                                   tf.keras.layers.Dense(128,activation = tf.nn.relu),                                   \n",
        "                                    tf.keras.layers.Dense(10, activation=tf.nn.softmax)])"
      ],
      "execution_count": 0,
      "outputs": []
    },
    {
      "metadata": {
        "id": "xa4m9Z4gaXW6",
        "colab_type": "text"
      },
      "cell_type": "markdown",
      "source": [
        "training our model with train images."
      ]
    },
    {
      "metadata": {
        "id": "IgyDqE4B42Ov",
        "colab_type": "code",
        "outputId": "86374483-1201-48ee-97f8-45421ed5aca0",
        "colab": {
          "base_uri": "https://localhost:8080/",
          "height": 204
        }
      },
      "cell_type": "code",
      "source": [
        "model.compile(optimizer = tf.train.AdamOptimizer(),\n",
        "              loss = 'sparse_categorical_crossentropy',\n",
        "              metrics=['accuracy'])\n",
        "\n",
        "model.fit(training_images, training_labels, epochs=5)"
      ],
      "execution_count": 0,
      "outputs": [
        {
          "output_type": "stream",
          "text": [
            "Epoch 1/5\n",
            "60000/60000 [==============================] - 5s 79us/sample - loss: 0.2194 - acc: 0.9179\n",
            "Epoch 2/5\n",
            "60000/60000 [==============================] - 5s 77us/sample - loss: 0.2112 - acc: 0.9207\n",
            "Epoch 3/5\n",
            "60000/60000 [==============================] - 5s 78us/sample - loss: 0.2043 - acc: 0.9235\n",
            "Epoch 4/5\n",
            "60000/60000 [==============================] - 5s 78us/sample - loss: 0.2000 - acc: 0.9244\n",
            "Epoch 5/5\n",
            "60000/60000 [==============================] - 5s 78us/sample - loss: 0.1944 - acc: 0.9264\n"
          ],
          "name": "stdout"
        },
        {
          "output_type": "execute_result",
          "data": {
            "text/plain": [
              "<tensorflow.python.keras.callbacks.History at 0x7f3d72fcfcc0>"
            ]
          },
          "metadata": {
            "tags": []
          },
          "execution_count": 23
        }
      ]
    },
    {
      "metadata": {
        "id": "cXbs_rsxaSwK",
        "colab_type": "text"
      },
      "cell_type": "markdown",
      "source": [
        "testing our model with test images."
      ]
    },
    {
      "metadata": {
        "id": "hG0v8k3O5c7d",
        "colab_type": "code",
        "outputId": "2c0f91f1-9495-4b1b-b3f9-34441a94381e",
        "colab": {
          "base_uri": "https://localhost:8080/",
          "height": 51
        }
      },
      "cell_type": "code",
      "source": [
        "model.evaluate(test_images,test_labels)"
      ],
      "execution_count": 0,
      "outputs": [
        {
          "output_type": "stream",
          "text": [
            "10000/10000 [==============================] - 0s 49us/sample - loss: 0.3396 - acc: 0.8857\n"
          ],
          "name": "stdout"
        },
        {
          "output_type": "execute_result",
          "data": {
            "text/plain": [
              "[0.33964117468595506, 0.8857]"
            ]
          },
          "metadata": {
            "tags": []
          },
          "execution_count": 24
        }
      ]
    },
    {
      "metadata": {
        "id": "XQz7Vdoeaec9",
        "colab_type": "text"
      },
      "cell_type": "markdown",
      "source": [
        "accuracy is about 0.88 .\n",
        "\n",
        "prediction throug one of our test images."
      ]
    },
    {
      "metadata": {
        "id": "Ly-VMY8_7uz_",
        "colab_type": "code",
        "outputId": "c33a4aba-1b5e-4c61-8d46-be63624056ab",
        "colab": {
          "base_uri": "https://localhost:8080/",
          "height": 51
        }
      },
      "cell_type": "code",
      "source": [
        "classification = model.predict(test_images)\n",
        "print(classification[0])"
      ],
      "execution_count": 0,
      "outputs": [
        {
          "output_type": "stream",
          "text": [
            "[7.7399187e-13 1.5561208e-14 2.7805403e-12 4.7144900e-13 4.8859073e-11\n",
            " 7.5746305e-02 1.9652659e-09 2.8235903e-02 1.8410264e-10 8.9601779e-01]\n"
          ],
          "name": "stdout"
        }
      ]
    },
    {
      "metadata": {
        "id": "dKlavZ6E8cqO",
        "colab_type": "code",
        "outputId": "b5a93d27-086d-445b-a592-491e7b2825c9",
        "colab": {
          "base_uri": "https://localhost:8080/",
          "height": 34
        }
      },
      "cell_type": "code",
      "source": [
        "print(test_labels[0])"
      ],
      "execution_count": 0,
      "outputs": [
        {
          "output_type": "stream",
          "text": [
            "9\n"
          ],
          "name": "stdout"
        }
      ]
    }
  ]
}