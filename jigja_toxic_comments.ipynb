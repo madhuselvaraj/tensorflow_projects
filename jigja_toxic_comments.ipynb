{
  "nbformat": 4,
  "nbformat_minor": 0,
  "metadata": {
    "colab": {
      "name": "jigja_toxic_comments",
      "version": "0.3.2",
      "provenance": [],
      "collapsed_sections": [],
      "include_colab_link": true
    },
    "kernelspec": {
      "name": "python3",
      "display_name": "Python 3"
    },
    "accelerator": "GPU"
  },
  "cells": [
    {
      "cell_type": "markdown",
      "metadata": {
        "id": "view-in-github",
        "colab_type": "text"
      },
      "source": [
        "<a href=\"https://colab.research.google.com/github/madhuselvaraj/tensorflow_projects/blob/master/jigja_toxic_comments.ipynb\" target=\"_parent\"><img src=\"https://colab.research.google.com/assets/colab-badge.svg\" alt=\"Open In Colab\"/></a>"
      ]
    },
    {
      "cell_type": "code",
      "metadata": {
        "id": "kyBju72rokll",
        "colab_type": "code",
        "colab": {}
      },
      "source": [
        "import os\n",
        "import pandas as pd\n",
        "import numpy as np"
      ],
      "execution_count": 0,
      "outputs": []
    },
    {
      "cell_type": "code",
      "metadata": {
        "id": "4HFJssI5o8Nn",
        "colab_type": "code",
        "colab": {}
      },
      "source": [
        "os.mkdir(\"/content/Dataset\")"
      ],
      "execution_count": 0,
      "outputs": []
    },
    {
      "cell_type": "code",
      "metadata": {
        "id": "2sBMw_BLpOhX",
        "colab_type": "code",
        "colab": {}
      },
      "source": [
        "train_data = pd.read_csv(\"/content/Dataset/train.csv\")"
      ],
      "execution_count": 0,
      "outputs": []
    },
    {
      "cell_type": "code",
      "metadata": {
        "id": "cc8w5zaypcVO",
        "colab_type": "code",
        "outputId": "2c582b36-7585-4933-a081-2f45c66a468d",
        "colab": {
          "base_uri": "https://localhost:8080/",
          "height": 193
        }
      },
      "source": [
        "train_data.head(3)"
      ],
      "execution_count": 0,
      "outputs": [
        {
          "output_type": "execute_result",
          "data": {
            "text/html": [
              "<div>\n",
              "<style scoped>\n",
              "    .dataframe tbody tr th:only-of-type {\n",
              "        vertical-align: middle;\n",
              "    }\n",
              "\n",
              "    .dataframe tbody tr th {\n",
              "        vertical-align: top;\n",
              "    }\n",
              "\n",
              "    .dataframe thead th {\n",
              "        text-align: right;\n",
              "    }\n",
              "</style>\n",
              "<table border=\"1\" class=\"dataframe\">\n",
              "  <thead>\n",
              "    <tr style=\"text-align: right;\">\n",
              "      <th></th>\n",
              "      <th>id</th>\n",
              "      <th>comment_text</th>\n",
              "      <th>toxic</th>\n",
              "      <th>severe_toxic</th>\n",
              "      <th>obscene</th>\n",
              "      <th>threat</th>\n",
              "      <th>insult</th>\n",
              "      <th>identity_hate</th>\n",
              "    </tr>\n",
              "  </thead>\n",
              "  <tbody>\n",
              "    <tr>\n",
              "      <th>0</th>\n",
              "      <td>0000997932d777bf</td>\n",
              "      <td>Explanation\\nWhy the edits made under my usern...</td>\n",
              "      <td>0</td>\n",
              "      <td>0</td>\n",
              "      <td>0</td>\n",
              "      <td>0</td>\n",
              "      <td>0</td>\n",
              "      <td>0</td>\n",
              "    </tr>\n",
              "    <tr>\n",
              "      <th>1</th>\n",
              "      <td>000103f0d9cfb60f</td>\n",
              "      <td>D'aww! He matches this background colour I'm s...</td>\n",
              "      <td>0</td>\n",
              "      <td>0</td>\n",
              "      <td>0</td>\n",
              "      <td>0</td>\n",
              "      <td>0</td>\n",
              "      <td>0</td>\n",
              "    </tr>\n",
              "    <tr>\n",
              "      <th>2</th>\n",
              "      <td>000113f07ec002fd</td>\n",
              "      <td>Hey man, I'm really not trying to edit war. It...</td>\n",
              "      <td>0</td>\n",
              "      <td>0</td>\n",
              "      <td>0</td>\n",
              "      <td>0</td>\n",
              "      <td>0</td>\n",
              "      <td>0</td>\n",
              "    </tr>\n",
              "  </tbody>\n",
              "</table>\n",
              "</div>"
            ],
            "text/plain": [
              "                 id  ... identity_hate\n",
              "0  0000997932d777bf  ...             0\n",
              "1  000103f0d9cfb60f  ...             0\n",
              "2  000113f07ec002fd  ...             0\n",
              "\n",
              "[3 rows x 8 columns]"
            ]
          },
          "metadata": {
            "tags": []
          },
          "execution_count": 4
        }
      ]
    },
    {
      "cell_type": "code",
      "metadata": {
        "id": "cM7QY5YUreov",
        "colab_type": "code",
        "outputId": "5cef83c2-b279-4f69-9245-a3a622e2d0e3",
        "colab": {
          "base_uri": "https://localhost:8080/",
          "height": 170
        }
      },
      "source": [
        "train_data.isnull().any()"
      ],
      "execution_count": 0,
      "outputs": [
        {
          "output_type": "execute_result",
          "data": {
            "text/plain": [
              "id               False\n",
              "comment_text     False\n",
              "toxic            False\n",
              "severe_toxic     False\n",
              "obscene          False\n",
              "threat           False\n",
              "insult           False\n",
              "identity_hate    False\n",
              "dtype: bool"
            ]
          },
          "metadata": {
            "tags": []
          },
          "execution_count": 5
        }
      ]
    },
    {
      "cell_type": "code",
      "metadata": {
        "id": "txiUUXvmtJIt",
        "colab_type": "code",
        "outputId": "fc2c0102-64e4-4848-c12d-95eb0aa5ee20",
        "colab": {
          "base_uri": "https://localhost:8080/",
          "height": 136
        }
      },
      "source": [
        "train_classes = [\"toxic\",\"severe_toxic\"\t,\"obscene\"\t, \"threat\", \"insult\",\t\"identity_hate\"]\n",
        "Y = train_data[train_classes].values\n",
        "print(Y)"
      ],
      "execution_count": 0,
      "outputs": [
        {
          "output_type": "stream",
          "text": [
            "[[0 0 0 0 0 0]\n",
            " [0 0 0 0 0 0]\n",
            " [0 0 0 0 0 0]\n",
            " ...\n",
            " [0 0 0 0 0 0]\n",
            " [0 0 0 0 0 0]\n",
            " [0 0 0 0 0 0]]\n"
          ],
          "name": "stdout"
        }
      ]
    },
    {
      "cell_type": "code",
      "metadata": {
        "id": "VoSaVex3vTjF",
        "colab_type": "code",
        "outputId": "a65dcc44-08a5-4c66-8e8a-5afa9b3d6e43",
        "colab": {
          "base_uri": "https://localhost:8080/",
          "height": 85
        }
      },
      "source": [
        "train_sentence = train_data[\"comment_text\"]\n",
        "print(train_sentence[:3])"
      ],
      "execution_count": 0,
      "outputs": [
        {
          "output_type": "stream",
          "text": [
            "0    Explanation\\nWhy the edits made under my usern...\n",
            "1    D'aww! He matches this background colour I'm s...\n",
            "2    Hey man, I'm really not trying to edit war. It...\n",
            "Name: comment_text, dtype: object\n"
          ],
          "name": "stdout"
        }
      ]
    },
    {
      "cell_type": "code",
      "metadata": {
        "id": "ikfcRVmBz5an",
        "colab_type": "code",
        "colab": {}
      },
      "source": [
        "from keras.preprocessing.text import Tokenizer\n",
        "from keras.preprocessing.sequence import pad_sequences\n",
        "from keras.layers import Input,Embedding,LSTM,Dense,Dropout,Activation\n",
        "from keras.models import Model"
      ],
      "execution_count": 0,
      "outputs": []
    },
    {
      "cell_type": "code",
      "metadata": {
        "id": "5wLB2pj_w8zz",
        "colab_type": "code",
        "colab": {}
      },
      "source": [
        "max_features = 20000\n",
        "tokenizer = Tokenizer(num_words=max_features)\n",
        "tokenizer.fit_on_texts(list(train_sentence))\n",
        "trained_tokenizer = tokenizer.texts_to_sequences(train_sentence)"
      ],
      "execution_count": 0,
      "outputs": []
    },
    {
      "cell_type": "code",
      "metadata": {
        "id": "NXUpROPz0KNT",
        "colab_type": "code",
        "outputId": "f077dd54-dc09-4c7f-952b-ad746c878141",
        "colab": {
          "base_uri": "https://localhost:8080/",
          "height": 54
        }
      },
      "source": [
        "print(trained_tokenizer[0])"
      ],
      "execution_count": 0,
      "outputs": [
        {
          "output_type": "stream",
          "text": [
            "[688, 75, 1, 126, 130, 177, 29, 672, 4511, 12052, 1116, 86, 331, 51, 2278, 11448, 50, 6864, 15, 60, 2756, 148, 7, 2937, 34, 117, 1221, 15190, 2825, 4, 45, 59, 244, 1, 365, 31, 1, 38, 27, 143, 73, 3462, 89, 3085, 4583, 2273, 985]\n"
          ],
          "name": "stdout"
        }
      ]
    },
    {
      "cell_type": "code",
      "metadata": {
        "id": "Cov8bc-X2K3M",
        "colab_type": "code",
        "colab": {}
      },
      "source": [
        "maxlen = 200\n",
        "X = pad_sequences(trained_tokenizer, maxlen=maxlen)"
      ],
      "execution_count": 0,
      "outputs": []
    },
    {
      "cell_type": "code",
      "metadata": {
        "id": "VoWTgZvi4Ooc",
        "colab_type": "code",
        "colab": {}
      },
      "source": [
        "def model(input_shape,embedded_layer_shape):\n",
        "  \n",
        "  X_input = Input(shape = (input_shape,)) \n",
        "  X = Embedding(max_features,128)(X_input)\n",
        "  X = LSTM(60, return_sequences=True,name='lstm_layer')(X)\n",
        "  X = GlobalMaxPooling1D()(X)\n",
        "  X = Dropout(0.4)(X)\n",
        "  X = Dense(50, activation=\"relu\")(X)\n",
        "  X = Dropout(0.3)(X)\n",
        "  X = Dense(6, activation=\"sigmoid\")(X)\n",
        "  \n",
        "  model = Model(inputs=X_input, outputs=X)\n",
        "  \n",
        "  return model"
      ],
      "execution_count": 0,
      "outputs": []
    },
    {
      "cell_type": "code",
      "metadata": {
        "id": "L7tgTiuLAmuQ",
        "colab_type": "code",
        "outputId": "e8d2d9a0-d41b-43ee-e889-037ca6d743ff",
        "colab": {
          "base_uri": "https://localhost:8080/",
          "height": 408
        }
      },
      "source": [
        "Model = model(input_shape = maxlen,embedded_layer_shape =  max_features)\n",
        "Model.summary()"
      ],
      "execution_count": 0,
      "outputs": [
        {
          "output_type": "stream",
          "text": [
            "_________________________________________________________________\n",
            "Layer (type)                 Output Shape              Param #   \n",
            "=================================================================\n",
            "input_8 (InputLayer)         (None, 200)               0         \n",
            "_________________________________________________________________\n",
            "embedding_8 (Embedding)      (None, 200, 128)          2560000   \n",
            "_________________________________________________________________\n",
            "lstm_layer (LSTM)            (None, 200, 60)           45360     \n",
            "_________________________________________________________________\n",
            "global_max_pooling1d_7 (Glob (None, 60)                0         \n",
            "_________________________________________________________________\n",
            "dropout_15 (Dropout)         (None, 60)                0         \n",
            "_________________________________________________________________\n",
            "dense_14 (Dense)             (None, 50)                3050      \n",
            "_________________________________________________________________\n",
            "dropout_16 (Dropout)         (None, 50)                0         \n",
            "_________________________________________________________________\n",
            "dense_15 (Dense)             (None, 6)                 306       \n",
            "=================================================================\n",
            "Total params: 2,608,716\n",
            "Trainable params: 2,608,716\n",
            "Non-trainable params: 0\n",
            "_________________________________________________________________\n"
          ],
          "name": "stdout"
        }
      ]
    },
    {
      "cell_type": "code",
      "metadata": {
        "id": "0R2Hh61XF3CN",
        "colab_type": "code",
        "colab": {}
      },
      "source": [
        "def new_model(input_shape,embedded_layer_shape):\n",
        "  \n",
        "  X_input = Input(shape = (input_shape,)) \n",
        "  X = Embedding(embedded_layer_shape,128)(X_input)\n",
        "  X = LSTM(128, return_sequences=True)(X)\n",
        "  X = Dropout(0.5)(X)\n",
        "  X = LSTM(128)(X)\n",
        "  X = Dropout(0.5)(X)\n",
        "  X = Dense(6, activation=\"sigmoid\")(X)\n",
        "  #X = Activation(('softmax'))(X)\n",
        "  \n",
        "  model = Model(inputs=X_input, outputs=X)\n",
        "  \n",
        "  return model"
      ],
      "execution_count": 0,
      "outputs": []
    },
    {
      "cell_type": "code",
      "metadata": {
        "id": "quWGXIBYAYKy",
        "colab_type": "code",
        "outputId": "1c1bb9a7-3118-4010-8626-e464000372fe",
        "colab": {
          "base_uri": "https://localhost:8080/",
          "height": 374
        }
      },
      "source": [
        "Model = new_model(input_shape = maxlen,embedded_layer_shape =  max_features)\n",
        "Model.summary()"
      ],
      "execution_count": 0,
      "outputs": [
        {
          "output_type": "stream",
          "text": [
            "_________________________________________________________________\n",
            "Layer (type)                 Output Shape              Param #   \n",
            "=================================================================\n",
            "input_15 (InputLayer)        (None, 200)               0         \n",
            "_________________________________________________________________\n",
            "embedding_15 (Embedding)     (None, 200, 128)          2560000   \n",
            "_________________________________________________________________\n",
            "lstm_15 (LSTM)               (None, 200, 128)          131584    \n",
            "_________________________________________________________________\n",
            "dropout_29 (Dropout)         (None, 200, 128)          0         \n",
            "_________________________________________________________________\n",
            "lstm_16 (LSTM)               (None, 128)               131584    \n",
            "_________________________________________________________________\n",
            "dropout_30 (Dropout)         (None, 128)               0         \n",
            "_________________________________________________________________\n",
            "dense_22 (Dense)             (None, 6)                 774       \n",
            "=================================================================\n",
            "Total params: 2,823,942\n",
            "Trainable params: 2,823,942\n",
            "Non-trainable params: 0\n",
            "_________________________________________________________________\n"
          ],
          "name": "stdout"
        }
      ]
    },
    {
      "cell_type": "code",
      "metadata": {
        "id": "yojxguKCBHte",
        "colab_type": "code",
        "colab": {}
      },
      "source": [
        "Model.compile(loss='binary_crossentropy',\n",
        "                  optimizer='adam',\n",
        "                  metrics=['accuracy'])"
      ],
      "execution_count": 0,
      "outputs": []
    },
    {
      "cell_type": "code",
      "metadata": {
        "id": "flg1bH6HBaz3",
        "colab_type": "code",
        "outputId": "649804d3-028b-4cf7-f9d4-c77b138bd7a3",
        "colab": {
          "base_uri": "https://localhost:8080/",
          "height": 139
        }
      },
      "source": [
        "Model.fit(X,Y, batch_size=32, epochs=2, validation_split=0.1)"
      ],
      "execution_count": 0,
      "outputs": [
        {
          "output_type": "stream",
          "text": [
            "Train on 143613 samples, validate on 15958 samples\n",
            "Epoch 1/2\n",
            "143613/143613 [==============================] - 1337s 9ms/step - loss: 0.0728 - acc: 0.9770 - val_loss: 0.0511 - val_acc: 0.9817\n",
            "Epoch 2/2\n",
            "143613/143613 [==============================] - 1339s 9ms/step - loss: 0.0483 - acc: 0.9824 - val_loss: 0.0494 - val_acc: 0.9820\n"
          ],
          "name": "stdout"
        },
        {
          "output_type": "execute_result",
          "data": {
            "text/plain": [
              "<keras.callbacks.History at 0x7fb51cb86a58>"
            ]
          },
          "metadata": {
            "tags": []
          },
          "execution_count": 44
        }
      ]
    },
    {
      "cell_type": "code",
      "metadata": {
        "id": "Q3vFWXZcrVbJ",
        "colab_type": "code",
        "outputId": "80717f72-70a1-4d8e-86cd-e30249e459a9",
        "colab": {
          "base_uri": "https://localhost:8080/",
          "height": 139
        }
      },
      "source": [
        "Model.compile(loss='binary_crossentropy',\n",
        "                  optimizer='adam',\n",
        "                  metrics=['accuracy'])\n",
        "Model.fit(X,Y, batch_size=32, epochs=2, validation_split=0.1)"
      ],
      "execution_count": 0,
      "outputs": [
        {
          "output_type": "stream",
          "text": [
            "Train on 143613 samples, validate on 15958 samples\n",
            "Epoch 1/2\n",
            "143613/143613 [==============================] - 2629s 18ms/step - loss: 0.0694 - acc: 0.9778 - val_loss: 0.0513 - val_acc: 0.9815\n",
            "Epoch 2/2\n",
            "143613/143613 [==============================] - 2591s 18ms/step - loss: 0.0474 - acc: 0.9825 - val_loss: 0.0488 - val_acc: 0.9822\n"
          ],
          "name": "stdout"
        },
        {
          "output_type": "execute_result",
          "data": {
            "text/plain": [
              "<keras.callbacks.History at 0x7fb4eb1005c0>"
            ]
          },
          "metadata": {
            "tags": []
          },
          "execution_count": 77
        }
      ]
    },
    {
      "cell_type": "code",
      "metadata": {
        "id": "u-Cl_hx-PVVl",
        "colab_type": "code",
        "colab": {}
      },
      "source": [
        "test_comment = [\"Catalan independentism is the social movement involving more people in Catalonia. Votes in the referendum at Barcelona were more than the ones received by political parties that are leading the council (PSC and CIU) . 20% of votes of the total census voting in favour of a referendum that is forbidden by spanish courts and that has no legal effects is highly relevant.\",\"COCKSUCKER BEFORE YOU PISS AROUND ON MY WORK\",\"her\"]\n",
        "test_tokenizer = tokenizer.texts_to_sequences(test_comment)\n",
        "test_X = pad_sequences(test_tokenizer, maxlen=maxlen)"
      ],
      "execution_count": 0,
      "outputs": []
    },
    {
      "cell_type": "code",
      "metadata": {
        "id": "BbtvAbFtQd6X",
        "colab_type": "code",
        "outputId": "1323fb82-d61c-46a4-e1af-50f57bc61c33",
        "colab": {
          "base_uri": "https://localhost:8080/",
          "height": 884
        }
      },
      "source": [
        "print(test_X)"
      ],
      "execution_count": 0,
      "outputs": [
        {
          "output_type": "stream",
          "text": [
            "[[    0     0     0     0     0     0     0     0     0     0     0     0\n",
            "      0     0     0     0     0     0     0     0     0     0     0     0\n",
            "      0     0     0     0     0     0     0     0     0     0     0     0\n",
            "      0     0     0     0     0     0     0     0     0     0     0     0\n",
            "      0     0     0     0     0     0     0     0     0     0     0     0\n",
            "      0     0     0     0     0     0     0     0     0     0     0     0\n",
            "      0     0     0     0     0     0     0     0     0     0     0     0\n",
            "      0     0     0     0     0     0     0     0     0     0     0     0\n",
            "      0     0     0     0     0     0     0     0     0     0     0     0\n",
            "      0     0     0     0     0     0     0     0     0     0     0     0\n",
            "      0     0     0     0     0     0     0     0     0     0     0     0\n",
            "      0     0     0     0     0     0     0     0     0  8304     8     1\n",
            "   1179  1190  3172    57    74    10 15051  2075    10     1 10114    34\n",
            "   8397    86    57    93     1   779  1318    32   615  1844     9    19\n",
            "   2335     1  2141     4   544     3  2075     3     1  1204  2643  2772\n",
            "     10  3318     3     5 10114     9     8  5211    32  1316  4581     4\n",
            "      9    43    46   906  2464     8  1092   502]\n",
            " [    0     0     0     0     0     0     0     0     0     0     0     0\n",
            "      0     0     0     0     0     0     0     0     0     0     0     0\n",
            "      0     0     0     0     0     0     0     0     0     0     0     0\n",
            "      0     0     0     0     0     0     0     0     0     0     0     0\n",
            "      0     0     0     0     0     0     0     0     0     0     0     0\n",
            "      0     0     0     0     0     0     0     0     0     0     0     0\n",
            "      0     0     0     0     0     0     0     0     0     0     0     0\n",
            "      0     0     0     0     0     0     0     0     0     0     0     0\n",
            "      0     0     0     0     0     0     0     0     0     0     0     0\n",
            "      0     0     0     0     0     0     0     0     0     0     0     0\n",
            "      0     0     0     0     0     0     0     0     0     0     0     0\n",
            "      0     0     0     0     0     0     0     0     0     0     0     0\n",
            "      0     0     0     0     0     0     0     0     0     0     0     0\n",
            "      0     0     0     0     0     0     0     0     0     0     0     0\n",
            "      0     0     0     0     0     0     0     0     0     0     0     0\n",
            "      0     0     0     0     0     0     0     0     0     0     0     0\n",
            "   1873   147     6  3476   324    15    29   141]\n",
            " [    0     0     0     0     0     0     0     0     0     0     0     0\n",
            "      0     0     0     0     0     0     0     0     0     0     0     0\n",
            "      0     0     0     0     0     0     0     0     0     0     0     0\n",
            "      0     0     0     0     0     0     0     0     0     0     0     0\n",
            "      0     0     0     0     0     0     0     0     0     0     0     0\n",
            "      0     0     0     0     0     0     0     0     0     0     0     0\n",
            "      0     0     0     0     0     0     0     0     0     0     0     0\n",
            "      0     0     0     0     0     0     0     0     0     0     0     0\n",
            "      0     0     0     0     0     0     0     0     0     0     0     0\n",
            "      0     0     0     0     0     0     0     0     0     0     0     0\n",
            "      0     0     0     0     0     0     0     0     0     0     0     0\n",
            "      0     0     0     0     0     0     0     0     0     0     0     0\n",
            "      0     0     0     0     0     0     0     0     0     0     0     0\n",
            "      0     0     0     0     0     0     0     0     0     0     0     0\n",
            "      0     0     0     0     0     0     0     0     0     0     0     0\n",
            "      0     0     0     0     0     0     0     0     0     0     0     0\n",
            "      0     0     0     0     0     0     0   186]]\n"
          ],
          "name": "stdout"
        }
      ]
    },
    {
      "cell_type": "code",
      "metadata": {
        "id": "ZKXMeX4CPNPJ",
        "colab_type": "code",
        "outputId": "92cd93af-6cd6-4c1d-8b45-6efc83e1450f",
        "colab": {
          "base_uri": "https://localhost:8080/",
          "height": 119
        }
      },
      "source": [
        "output = Model.predict_on_batch(test_X)\n",
        "print(output)"
      ],
      "execution_count": 0,
      "outputs": [
        {
          "output_type": "stream",
          "text": [
            "[[8.6694956e-05 0.0000000e+00 3.9041042e-06 0.0000000e+00 2.8908253e-06\n",
            "  2.6822090e-07]\n",
            " [9.9900866e-01 3.6265054e-01 9.7617096e-01 3.4475803e-02 8.5658234e-01\n",
            "  1.2317154e-01]\n",
            " [9.5839202e-03 5.4031610e-05 9.5787644e-04 1.8304586e-04 1.1480717e-03\n",
            "  4.2011519e-04]]\n"
          ],
          "name": "stdout"
        }
      ]
    },
    {
      "cell_type": "code",
      "metadata": {
        "id": "kJPqpT81ADLl",
        "colab_type": "code",
        "outputId": "6403febe-78c2-48c8-a2c1-cf62696fd0d3",
        "colab": {
          "base_uri": "https://localhost:8080/",
          "height": 119
        }
      },
      "source": [
        "output = Model.predict_on_batch(test_X)\n",
        "print(output)"
      ],
      "execution_count": 0,
      "outputs": [
        {
          "output_type": "stream",
          "text": [
            "[[9.8371506e-04 1.5199184e-06 8.1837177e-05 1.4901161e-06 1.5527010e-04\n",
            "  3.7223101e-05]\n",
            " [9.9864602e-01 4.1532347e-01 9.8516357e-01 5.9445977e-02 8.8768256e-01\n",
            "  1.6295904e-01]\n",
            " [2.1024814e-01 1.0987818e-03 2.5021791e-02 3.4689605e-03 5.3496558e-02\n",
            "  9.4942376e-03]]\n"
          ],
          "name": "stdout"
        }
      ]
    }
  ]
}